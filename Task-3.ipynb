{
  "nbformat": 4,
  "nbformat_minor": 0,
  "metadata": {
    "colab": {
      "provenance": [],
      "authorship_tag": "ABX9TyMFgjWEODgWC8mdY7PHDiN+",
      "include_colab_link": true
    },
    "kernelspec": {
      "name": "python3",
      "display_name": "Python 3"
    },
    "language_info": {
      "name": "python"
    }
  },
  "cells": [
    {
      "cell_type": "markdown",
      "metadata": {
        "id": "view-in-github",
        "colab_type": "text"
      },
      "source": [
        "<a href=\"https://colab.research.google.com/github/pkaliahmar/Python-Course/blob/main/Task-3.ipynb\" target=\"_parent\"><img src=\"https://colab.research.google.com/assets/colab-badge.svg\" alt=\"Open In Colab\"/></a>"
      ]
    },
    {
      "cell_type": "code",
      "execution_count": 3,
      "metadata": {
        "colab": {
          "base_uri": "https://localhost:8080/"
        },
        "id": "w0BakSiBrQfw",
        "outputId": "d1676774-b552-4264-f893-cb088ff9cf09"
      },
      "outputs": [
        {
          "output_type": "stream",
          "name": "stdout",
          "text": [
            "Enter a number: 5\n",
            "1\n",
            "2\n",
            "3\n",
            "4\n",
            "5\n"
          ]
        }
      ],
      "source": [
        "# 1 print numbers from one to N\n",
        "n = int(input(\"Enter a number: \"))\n",
        "for i in range(1, n+1):\n",
        "    print(i)\n"
      ]
    },
    {
      "cell_type": "code",
      "source": [
        "# 2  print first N even numbers\n",
        "\n",
        "n = int(input(\"Enter how many even numbers: \"))\n",
        "for i in range(2, 2*n+1, 2):\n",
        "    print(i)\n"
      ],
      "metadata": {
        "colab": {
          "base_uri": "https://localhost:8080/"
        },
        "id": "27mgetWcrdEt",
        "outputId": "b664544a-2624-4dfd-eca8-804cb68c2b50"
      },
      "execution_count": 2,
      "outputs": [
        {
          "output_type": "stream",
          "name": "stdout",
          "text": [
            "Enter how many even numbers: 3\n",
            "2\n",
            "4\n",
            "6\n"
          ]
        }
      ]
    },
    {
      "cell_type": "code",
      "source": [
        "# 3 Print first N odd numbers\n",
        "n = int(input(\"Enter how many odd numbers: \"))\n",
        "for i in range(1, 2*n, 2):\n",
        "    print(i)\n"
      ],
      "metadata": {
        "colab": {
          "base_uri": "https://localhost:8080/"
        },
        "id": "-s9ueqc9rojt",
        "outputId": "da5e5901-8247-4274-ea1a-16e3ad41521c"
      },
      "execution_count": 4,
      "outputs": [
        {
          "output_type": "stream",
          "name": "stdout",
          "text": [
            "Enter how many odd numbers: 4\n",
            "1\n",
            "3\n",
            "5\n",
            "7\n"
          ]
        }
      ]
    },
    {
      "cell_type": "code",
      "source": [
        "# 4 Sum of numbers from 1 to N\n",
        "\n",
        "n = int(input(\"Enter a number: \"))\n",
        "total = 0\n",
        "for i in range(1, n+1):\n",
        "    total += i\n",
        "print(\"Sum:\", total)\n"
      ],
      "metadata": {
        "colab": {
          "base_uri": "https://localhost:8080/"
        },
        "id": "N9hJmXaUrvNh",
        "outputId": "8ea631bf-faa4-47c6-dd09-22e1f594d25b"
      },
      "execution_count": 5,
      "outputs": [
        {
          "output_type": "stream",
          "name": "stdout",
          "text": [
            "Enter a number: 4\n",
            "Sum: 10\n"
          ]
        }
      ]
    },
    {
      "cell_type": "code",
      "source": [
        "# 5 Multiplication table of a number\n",
        "n = int(input(\"Enter a number: \"))\n",
        "for i in range(1, 11):\n",
        "    print(n, \"x\", i, \"=\", n * i)\n"
      ],
      "metadata": {
        "colab": {
          "base_uri": "https://localhost:8080/"
        },
        "id": "zGD6I50-r1t7",
        "outputId": "df9fbdf2-cc8e-4686-dd2a-80790f938a98"
      },
      "execution_count": 6,
      "outputs": [
        {
          "output_type": "stream",
          "name": "stdout",
          "text": [
            "Enter a number: 3\n",
            "3 x 1 = 3\n",
            "3 x 2 = 6\n",
            "3 x 3 = 9\n",
            "3 x 4 = 12\n",
            "3 x 5 = 15\n",
            "3 x 6 = 18\n",
            "3 x 7 = 21\n",
            "3 x 8 = 24\n",
            "3 x 9 = 27\n",
            "3 x 10 = 30\n"
          ]
        }
      ]
    },
    {
      "cell_type": "code",
      "source": [
        "# 6 squre of numbers from one to N\n",
        "n = int(input(\"Enter a number: \"))\n",
        "for i in range(1, n+1):\n",
        "    print(i, \"squared is\", i**2)\n"
      ],
      "metadata": {
        "colab": {
          "base_uri": "https://localhost:8080/"
        },
        "id": "yx1cc5hOr7MO",
        "outputId": "47268be2-d280-4b7f-e907-eaace8809f72"
      },
      "execution_count": 7,
      "outputs": [
        {
          "output_type": "stream",
          "name": "stdout",
          "text": [
            "Enter a number: 3\n",
            "1 squared is 1\n",
            "2 squared is 4\n",
            "3 squared is 9\n"
          ]
        }
      ]
    },
    {
      "cell_type": "code",
      "source": [
        "# 7 factorial of a number\n",
        "n = int(input(\"Enter a number: \"))\n",
        "fact = 1\n",
        "for i in range(1, n+1):\n",
        "    fact *= i\n",
        "print(\"Factorial:\", fact)\n"
      ],
      "metadata": {
        "colab": {
          "base_uri": "https://localhost:8080/"
        },
        "id": "JDj0r_PKsKIo",
        "outputId": "fcd9acfc-8962-433d-e759-928bca5a624a"
      },
      "execution_count": 8,
      "outputs": [
        {
          "output_type": "stream",
          "name": "stdout",
          "text": [
            "Enter a number: 5\n",
            "Factorial: 120\n"
          ]
        }
      ]
    },
    {
      "cell_type": "code",
      "source": [
        "# 8 Reverse count from N down to 1\n",
        "n = int(input(\"Enter a number: \"))\n",
        "for i in range(n, 0, -1):\n",
        "    print(i)\n"
      ],
      "metadata": {
        "colab": {
          "base_uri": "https://localhost:8080/"
        },
        "id": "6L6tTI9GsOmJ",
        "outputId": "aaa9e64d-94ac-48ff-cf54-f605ab3b53f0"
      },
      "execution_count": 9,
      "outputs": [
        {
          "output_type": "stream",
          "name": "stdout",
          "text": [
            "Enter a number: 5\n",
            "5\n",
            "4\n",
            "3\n",
            "2\n",
            "1\n"
          ]
        }
      ]
    },
    {
      "cell_type": "code",
      "source": [
        "# 9 Print sum of even numbers up to N\n",
        "n = int(input(\"Enter a number: \"))\n",
        "total = 0\n",
        "for i in range(2, n+1, 2):\n",
        "    total += i\n",
        "print(\"Sum of even numbers:\", total)\n"
      ],
      "metadata": {
        "colab": {
          "base_uri": "https://localhost:8080/"
        },
        "id": "-CNsQ26qsZaF",
        "outputId": "e4c8af91-ed72-4f22-80f6-f8a677fb9296"
      },
      "execution_count": 11,
      "outputs": [
        {
          "output_type": "stream",
          "name": "stdout",
          "text": [
            "Enter a number: 9\n",
            "Sum of even numbers: 20\n"
          ]
        }
      ]
    },
    {
      "cell_type": "code",
      "source": [
        "# 10 Print sum of odd numbers up to N\n",
        "n = int(input(\"Enter a number: \"))\n",
        "total = 0\n",
        "for i in range(1, n+1, 2):\n",
        "    total += i\n",
        "print(\"Sum of odd numbers:\", total)\n"
      ],
      "metadata": {
        "colab": {
          "base_uri": "https://localhost:8080/"
        },
        "id": "_AKc3y9Msh3G",
        "outputId": "96bee166-4ca2-45f1-fe39-bb6459f56e12"
      },
      "execution_count": 12,
      "outputs": [
        {
          "output_type": "stream",
          "name": "stdout",
          "text": [
            "Enter a number: 3\n",
            "Sum of odd numbers: 4\n"
          ]
        }
      ]
    },
    {
      "cell_type": "code",
      "source": [
        "# 11. Find square of a number using a function\n",
        "def square(num):\n",
        "    return num ** 2\n",
        "\n",
        "n = int(input(\"Enter a number: \"))\n",
        "print(\"Square:\", square(n))\n"
      ],
      "metadata": {
        "colab": {
          "base_uri": "https://localhost:8080/"
        },
        "id": "n4_x61ThtCJJ",
        "outputId": "295d0575-e37a-447c-a8da-7ce8c9808bcd"
      },
      "execution_count": 13,
      "outputs": [
        {
          "output_type": "stream",
          "name": "stdout",
          "text": [
            "Enter a number: 4\n",
            "Square: 16\n"
          ]
        }
      ]
    },
    {
      "cell_type": "code",
      "source": [
        "# 12. Find cube of a number using a function\n",
        "def cube(num):\n",
        "    return num ** 3\n",
        "\n",
        "n = int(input(\"Enter a number: \"))\n",
        "print(\"Cube:\", cube(n))\n"
      ],
      "metadata": {
        "colab": {
          "base_uri": "https://localhost:8080/"
        },
        "id": "1ccd2oHCtR7S",
        "outputId": "f8cf5545-23dd-4af3-e03a-59bffe8c1048"
      },
      "execution_count": 14,
      "outputs": [
        {
          "output_type": "stream",
          "name": "stdout",
          "text": [
            "Enter a number: 999\n",
            "Cube: 997002999\n"
          ]
        }
      ]
    },
    {
      "cell_type": "code",
      "source": [
        "# 13. Check if number is even or odd using a function\n",
        "def check_even_odd(num):\n",
        "    if num % 2 == 0:\n",
        "        return \"Even\"\n",
        "    else:\n",
        "        return \"Odd\"\n",
        "\n",
        "n = int(input(\"Enter a number: \"))\n",
        "print(\"Result:\", check_even_odd(n))\n"
      ],
      "metadata": {
        "colab": {
          "base_uri": "https://localhost:8080/"
        },
        "id": "Kv2pOtT8tVTo",
        "outputId": "a79c530e-6984-40fe-a4d3-64d7f79cbac5"
      },
      "execution_count": 15,
      "outputs": [
        {
          "output_type": "stream",
          "name": "stdout",
          "text": [
            "Enter a number: 23\n",
            "Result: Odd\n"
          ]
        }
      ]
    },
    {
      "cell_type": "code",
      "source": [
        "# 14. Find maximum of two numbers using a function\n",
        "def maximum(a, b):\n",
        "    return a if a > b else b\n",
        "\n",
        "x = int(input(\"Enter first number: \"))\n",
        "y = int(input(\"Enter second number: \"))\n",
        "print(\"Maximum:\", maximum(x, y))\n"
      ],
      "metadata": {
        "colab": {
          "base_uri": "https://localhost:8080/"
        },
        "id": "vsdRB3rNtY5_",
        "outputId": "badf32aa-9186-422e-e354-b8a37bbf945d"
      },
      "execution_count": 16,
      "outputs": [
        {
          "output_type": "stream",
          "name": "stdout",
          "text": [
            "Enter first number: 23\n",
            "Enter second number: 21\n",
            "Maximum: 23\n"
          ]
        }
      ]
    },
    {
      "cell_type": "code",
      "source": [
        "# 15. Find factorial of a number using a function\n",
        "def factorial(num):\n",
        "    fact = 1\n",
        "    for i in range(1, num+1):\n",
        "        fact *= i\n",
        "    return fact\n",
        "\n",
        "n = int(input(\"Enter a number: \"))\n",
        "print(\"Factorial:\", factorial(n))\n"
      ],
      "metadata": {
        "colab": {
          "base_uri": "https://localhost:8080/"
        },
        "id": "MnVkxEultcGi",
        "outputId": "31a8d714-ef0f-4cbe-bfbb-53dee1d55c3b"
      },
      "execution_count": 17,
      "outputs": [
        {
          "output_type": "stream",
          "name": "stdout",
          "text": [
            "Enter a number: 25\n",
            "Factorial: 15511210043330985984000000\n"
          ]
        }
      ]
    },
    {
      "cell_type": "code",
      "source": [
        "# 16. Find square of a number using a lambda function\n",
        "square = lambda num: num ** 2\n",
        "n = int(input(\"Enter a number: \"))\n",
        "print(\"Square:\", square(n))\n"
      ],
      "metadata": {
        "colab": {
          "base_uri": "https://localhost:8080/"
        },
        "id": "Rs2hfvWQthFE",
        "outputId": "5a8fac62-15d9-49bc-9a9f-87af920060da"
      },
      "execution_count": 18,
      "outputs": [
        {
          "output_type": "stream",
          "name": "stdout",
          "text": [
            "Enter a number: 21\n",
            "Square: 441\n"
          ]
        }
      ]
    },
    {
      "cell_type": "code",
      "source": [
        "# 17. Find cube of a number using a lambda function\n",
        "cube = lambda num: num ** 3\n",
        "n = int(input(\"Enter a number: \"))\n",
        "print(\"Cube:\", cube(n))\n"
      ],
      "metadata": {
        "colab": {
          "base_uri": "https://localhost:8080/"
        },
        "id": "94DBWECitlll",
        "outputId": "66a3214d-0d2e-4ed7-96d4-4c29b24ca4bc"
      },
      "execution_count": 19,
      "outputs": [
        {
          "output_type": "stream",
          "name": "stdout",
          "text": [
            "Enter a number: 4\n",
            "Cube: 64\n"
          ]
        }
      ]
    },
    {
      "cell_type": "code",
      "source": [
        "# 18. Check if number is even or odd using a lambda function\n",
        "check_even_odd = lambda num: \"Even\" if num % 2 == 0 else \"Odd\"\n",
        "n = int(input(\"Enter a number: \"))\n",
        "print(\"Result:\", check_even_odd(n))\n"
      ],
      "metadata": {
        "colab": {
          "base_uri": "https://localhost:8080/"
        },
        "id": "aItxKK3btooV",
        "outputId": "08807a92-dd78-486f-ea7f-5bc661256ad3"
      },
      "execution_count": 20,
      "outputs": [
        {
          "output_type": "stream",
          "name": "stdout",
          "text": [
            "Enter a number: 23\n",
            "Result: Odd\n"
          ]
        }
      ]
    },
    {
      "cell_type": "code",
      "source": [
        "# 19. Find maximum of two numbers using a lambda function\n",
        "maximum = lambda a, b: a if a > b else b\n",
        "x = int(input(\"Enter first number: \"))\n",
        "y = int(input(\"Enter second number: \"))\n",
        "print(\"Maximum:\", maximum(x, y))\n"
      ],
      "metadata": {
        "colab": {
          "base_uri": "https://localhost:8080/"
        },
        "id": "x8q28qP4tqRy",
        "outputId": "2f003470-4503-4f75-aceb-a8630b7f37bc"
      },
      "execution_count": 21,
      "outputs": [
        {
          "output_type": "stream",
          "name": "stdout",
          "text": [
            "Enter first number: 21\n",
            "Enter second number: 222\n",
            "Maximum: 222\n"
          ]
        }
      ]
    },
    {
      "cell_type": "code",
      "source": [
        "# 20. Find factorial of a number using a lambda function and reduce()\n",
        "from functools import reduce\n",
        "factorial = lambda n: reduce(lambda x, y: x * y, range(1, n+1), 1)\n",
        "n = int(input(\"Enter a number: \"))\n",
        "print(\"Factorial:\", factorial(n))\n"
      ],
      "metadata": {
        "colab": {
          "base_uri": "https://localhost:8080/"
        },
        "id": "xdym2KSdtwQM",
        "outputId": "67c63abd-bb20-45e8-dd8c-5df0ff036bc0"
      },
      "execution_count": 22,
      "outputs": [
        {
          "output_type": "stream",
          "name": "stdout",
          "text": [
            "Enter a number: 5\n",
            "Factorial: 120\n"
          ]
        }
      ]
    }
  ]
}
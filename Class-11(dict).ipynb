{
  "nbformat": 4,
  "nbformat_minor": 0,
  "metadata": {
    "colab": {
      "provenance": [],
      "authorship_tag": "ABX9TyP4FDa9rUpsE4pMXk/XWn0Y",
      "include_colab_link": true
    },
    "kernelspec": {
      "name": "python3",
      "display_name": "Python 3"
    },
    "language_info": {
      "name": "python"
    }
  },
  "cells": [
    {
      "cell_type": "markdown",
      "metadata": {
        "id": "view-in-github",
        "colab_type": "text"
      },
      "source": [
        "<a href=\"https://colab.research.google.com/github/pkaliahmar/Python-Course/blob/main/Class-11(dict).ipynb\" target=\"_parent\"><img src=\"https://colab.research.google.com/assets/colab-badge.svg\" alt=\"Open In Colab\"/></a>"
      ]
    },
    {
      "cell_type": "code",
      "execution_count": 1,
      "metadata": {
        "colab": {
          "base_uri": "https://localhost:8080/"
        },
        "id": "sa4v916fQAwF",
        "outputId": "07e4205a-d15d-4a40-eed0-2ad38f13fa2a"
      },
      "outputs": [
        {
          "output_type": "stream",
          "name": "stdout",
          "text": [
            "Enter number of items in dictionary: 5\n",
            "Enter key 1: Name\n",
            "Enter value for Name: Ali Ahmar\n",
            "Enter key 2: ID\n",
            "Enter value for ID: S2023266041\n",
            "Enter key 3: City\n",
            "Enter value for City: Muridke\n",
            "Enter key 4: Age\n",
            "Enter value for Age: 21\n",
            "Enter key 5: Dept.\n",
            "Enter value for Dept.: CS\n",
            "Created Dictionary: {'Name': 'Ali Ahmar', 'ID': 'S2023266041', 'City': 'Muridke', 'Age': '21', 'Dept.': 'CS'}\n"
          ]
        }
      ],
      "source": [
        "# 1. Create a Dictionary with N key-value pairs\n",
        "n = int(input(\"Enter number of items in dictionary: \"))\n",
        "d = {}\n",
        "for i in range(n):\n",
        "    key = input(f\"Enter key {i+1}: \")\n",
        "    value = input(f\"Enter value for {key}: \")\n",
        "    d[key] = value\n",
        "print(\"Created Dictionary:\", d)\n"
      ]
    },
    {
      "cell_type": "code",
      "source": [
        "\n",
        "# 2. Access Value by Key\n",
        "search_key = input(\"Enter key to access value: \")\n",
        "print(\"Value:\", d.get(search_key, \"Key not found\"))"
      ],
      "metadata": {
        "colab": {
          "base_uri": "https://localhost:8080/"
        },
        "id": "Ga30DkKLQ5ZF",
        "outputId": "f6593aef-d5e0-4c3e-aa3e-4337faeae040"
      },
      "execution_count": 2,
      "outputs": [
        {
          "output_type": "stream",
          "name": "stdout",
          "text": [
            "Enter key to access value: Name\n",
            "Value: Ali Ahmar\n"
          ]
        }
      ]
    },
    {
      "cell_type": "code",
      "source": [
        "\n",
        "# 3. Update Value of a Key\n",
        "update_key = input(\"Enter key to update: \")\n",
        "if update_key in d:\n",
        "    new_val = input(\"Enter new value: \")\n",
        "    d[update_key] = new_val\n",
        "    print(\"Updated Dictionary:\", d)\n",
        "else:\n",
        "    print(\"Key not found\")"
      ],
      "metadata": {
        "colab": {
          "base_uri": "https://localhost:8080/"
        },
        "id": "sGQCtgGVQ32O",
        "outputId": "0b6fd7ed-3f7f-41ba-add4-bde11be9075a"
      },
      "execution_count": 3,
      "outputs": [
        {
          "output_type": "stream",
          "name": "stdout",
          "text": [
            "Enter key to update: Name\n",
            "Enter new value: Muhammad Ali Ahmar\n",
            "Updated Dictionary: {'Name': 'Muhammad Ali Ahmar', 'ID': 'S2023266041', 'City': 'Muridke', 'Age': '21', 'Dept.': 'CS'}\n"
          ]
        }
      ]
    },
    {
      "cell_type": "code",
      "source": [
        "\n",
        "# 4. Add a New Key-Value Pair\n",
        "new_key = input(\"Enter new key: \")\n",
        "new_val = input(\"Enter new value: \")\n",
        "d[new_key] = new_val\n",
        "print(\"Dictionary after adding:\", d)"
      ],
      "metadata": {
        "colab": {
          "base_uri": "https://localhost:8080/"
        },
        "id": "y641JfkWQ2D6",
        "outputId": "96026a8e-6614-43ae-a3ee-8bc1f81efa57"
      },
      "execution_count": 4,
      "outputs": [
        {
          "output_type": "stream",
          "name": "stdout",
          "text": [
            "Enter new key: Address\n",
            "Enter new value: Lahore\n",
            "Dictionary after adding: {'Name': 'Muhammad Ali Ahmar', 'ID': 'S2023266041', 'City': 'Muridke', 'Age': '21', 'Dept.': 'CS', 'Address': 'Lahore'}\n"
          ]
        }
      ]
    },
    {
      "cell_type": "code",
      "source": [
        "# 5. Delete a Key-Value Pair\n",
        "del_key = input(\"Enter key to delete: \")\n",
        "if del_key in d:\n",
        "    del d[del_key]\n",
        "    print(\"Dictionary after deletion:\", d)\n",
        "else:\n",
        "    print(\"Key not found\")\n"
      ],
      "metadata": {
        "colab": {
          "base_uri": "https://localhost:8080/"
        },
        "id": "nXfO46FYQ0cL",
        "outputId": "0e536c7d-0d9b-41de-c850-8df7563a40f0"
      },
      "execution_count": 5,
      "outputs": [
        {
          "output_type": "stream",
          "name": "stdout",
          "text": [
            "Enter key to delete: Address\n",
            "Dictionary after deletion: {'Name': 'Muhammad Ali Ahmar', 'ID': 'S2023266041', 'City': 'Muridke', 'Age': '21', 'Dept.': 'CS'}\n"
          ]
        }
      ]
    },
    {
      "cell_type": "code",
      "source": [
        "\n",
        "# 6. Check if Key Exists\n",
        "check_key = input(\"Enter key to check: \")\n",
        "print(\"Exists?\" , check_key in d)"
      ],
      "metadata": {
        "colab": {
          "base_uri": "https://localhost:8080/"
        },
        "id": "hM9rEIGQQyaO",
        "outputId": "28d1a447-64e9-41ed-b630-57d864872f56"
      },
      "execution_count": 6,
      "outputs": [
        {
          "output_type": "stream",
          "name": "stdout",
          "text": [
            "Enter key to check: Age\n",
            "Exists? True\n"
          ]
        }
      ]
    },
    {
      "cell_type": "code",
      "source": [
        "\n",
        "# 7. Print All Keys\n",
        "print(\"Keys:\", list(d.keys()))"
      ],
      "metadata": {
        "colab": {
          "base_uri": "https://localhost:8080/"
        },
        "id": "weEGkH30QwFa",
        "outputId": "661e2bb0-0209-4b29-8f7c-6858c3c63ca5"
      },
      "execution_count": 7,
      "outputs": [
        {
          "output_type": "stream",
          "name": "stdout",
          "text": [
            "Keys: ['Name', 'ID', 'City', 'Age', 'Dept.']\n"
          ]
        }
      ]
    },
    {
      "cell_type": "code",
      "source": [
        "# 8. Print All Values\n",
        "print(\"Values:\", list(d.values()))\n"
      ],
      "metadata": {
        "colab": {
          "base_uri": "https://localhost:8080/"
        },
        "id": "9wHIO0zQQuli",
        "outputId": "acbc6252-fd22-4843-db7c-9faac63d1ba4"
      },
      "execution_count": 8,
      "outputs": [
        {
          "output_type": "stream",
          "name": "stdout",
          "text": [
            "Values: ['Muhammad Ali Ahmar', 'S2023266041', 'Muridke', '21', 'CS']\n"
          ]
        }
      ]
    },
    {
      "cell_type": "code",
      "source": [
        "# 9. Print All Key-Value Pairs\n",
        "print(\"Items:\", list(d.items()))\n"
      ],
      "metadata": {
        "colab": {
          "base_uri": "https://localhost:8080/"
        },
        "id": "HukRUjbiQtJ6",
        "outputId": "8eb38110-7f8c-4e8c-f0e3-13473c1c8060"
      },
      "execution_count": 9,
      "outputs": [
        {
          "output_type": "stream",
          "name": "stdout",
          "text": [
            "Items: [('Name', 'Muhammad Ali Ahmar'), ('ID', 'S2023266041'), ('City', 'Muridke'), ('Age', '21'), ('Dept.', 'CS')]\n"
          ]
        }
      ]
    },
    {
      "cell_type": "code",
      "source": [
        "\n",
        "# 10. Get Dictionary Length\n",
        "print(\"Number of items:\", len(d))"
      ],
      "metadata": {
        "colab": {
          "base_uri": "https://localhost:8080/"
        },
        "id": "dnWF1ak_Qrv-",
        "outputId": "87e2a196-6455-4602-9bb2-bdf4a74d1c81"
      },
      "execution_count": 10,
      "outputs": [
        {
          "output_type": "stream",
          "name": "stdout",
          "text": [
            "Number of items: 5\n"
          ]
        }
      ]
    },
    {
      "cell_type": "code",
      "source": [
        "# 11. Merge Two Dictionaries\n",
        "m = int(input(\"Enter number of items in second dictionary: \"))\n",
        "d2 = {}\n",
        "for i in range(m):\n",
        "    key = input(f\"Enter key {i+1}: \")\n",
        "    value = input(f\"Enter value for {key}: \")\n",
        "    d2[key] = value\n",
        "d.update(d2)\n",
        "print(\"Merged Dictionary:\", d)"
      ],
      "metadata": {
        "colab": {
          "base_uri": "https://localhost:8080/"
        },
        "id": "kVQDCPGFQqLx",
        "outputId": "4191d652-d212-4188-bf6e-2b3aa450ae98"
      },
      "execution_count": 11,
      "outputs": [
        {
          "output_type": "stream",
          "name": "stdout",
          "text": [
            "Enter number of items in second dictionary: 3\n",
            "Enter key 1: make\n",
            "Enter value for make: honda\n",
            "Enter key 2: model\n",
            "Enter value for model: city\n",
            "Enter key 3: variant\n",
            "Enter value for variant: sedan\n",
            "Merged Dictionary: {'Name': 'Muhammad Ali Ahmar', 'ID': 'S2023266041', 'City': 'Muridke', 'Age': '21', 'Dept.': 'CS', 'make': 'honda', 'model': 'city', 'variant': 'sedan'}\n"
          ]
        }
      ]
    },
    {
      "cell_type": "code",
      "source": [
        "\n",
        "# 12. Find Value with Maximum Length (if values are strings)\n",
        "if d:\n",
        "    max_val = max(d.values(), key=len)\n",
        "    print(\"Longest value:\", max_val)"
      ],
      "metadata": {
        "colab": {
          "base_uri": "https://localhost:8080/"
        },
        "id": "XHLMBrS5Qnez",
        "outputId": "48102c85-7b87-4052-b199-79652b580fda"
      },
      "execution_count": 12,
      "outputs": [
        {
          "output_type": "stream",
          "name": "stdout",
          "text": [
            "Longest value: Muhammad Ali Ahmar\n"
          ]
        }
      ]
    },
    {
      "cell_type": "code",
      "source": [
        "\n",
        "# 13. Find Key with Maximum Value (if numeric values)\n",
        "numeric_dict = {k:int(v) for k,v in d.items() if str(v).isdigit()}\n",
        "if numeric_dict:\n",
        "    max_key = max(numeric_dict, key=numeric_dict.get)\n",
        "    print(\"Key with maximum numeric value:\", max_key)"
      ],
      "metadata": {
        "colab": {
          "base_uri": "https://localhost:8080/"
        },
        "id": "Di0SRfkHQlsW",
        "outputId": "0facfd31-c99b-499e-f50b-8712576b8047"
      },
      "execution_count": 13,
      "outputs": [
        {
          "output_type": "stream",
          "name": "stdout",
          "text": [
            "Key with maximum numeric value: Age\n"
          ]
        }
      ]
    },
    {
      "cell_type": "code",
      "source": [
        "\n",
        "# 14. Create Dictionary from Two Lists\n",
        "keys = input(\"Enter keys separated by space: \").split()\n",
        "values = input(\"Enter values separated by space: \").split()\n",
        "dict_from_lists = dict(zip(keys, values))\n",
        "print(\"Dictionary from lists:\", dict_from_lists)"
      ],
      "metadata": {
        "colab": {
          "base_uri": "https://localhost:8080/"
        },
        "id": "H_RRy6l0QkBP",
        "outputId": "6dddfbd5-3f05-4f32-8329-2f39df84ec07"
      },
      "execution_count": 14,
      "outputs": [
        {
          "output_type": "stream",
          "name": "stdout",
          "text": [
            "Enter keys separated by space: Name Age make model\n",
            "Enter values separated by space: Ali 21 honda city\n",
            "Dictionary from lists: {'Name': 'Ali', 'Age': '21', 'make': 'honda', 'model': 'city'}\n"
          ]
        }
      ]
    },
    {
      "cell_type": "code",
      "source": [
        "# 15. Count Frequency of Characters in a String\n",
        "s = input(\"Enter a string: \")\n",
        "freq = {}\n",
        "for ch in s:\n",
        "    freq[ch] = freq.get(ch, 0) + 1\n",
        "print(\"Character frequencies:\", freq)\n"
      ],
      "metadata": {
        "colab": {
          "base_uri": "https://localhost:8080/"
        },
        "id": "oKaM41t7QieH",
        "outputId": "540c103a-b573-4983-8307-d0bd070eace1"
      },
      "execution_count": 15,
      "outputs": [
        {
          "output_type": "stream",
          "name": "stdout",
          "text": [
            "Enter a string: pakistan zindabad\n",
            "Character frequencies: {'p': 1, 'a': 4, 'k': 1, 'i': 2, 's': 1, 't': 1, 'n': 2, ' ': 1, 'z': 1, 'd': 2, 'b': 1}\n"
          ]
        }
      ]
    },
    {
      "cell_type": "code",
      "source": [
        "\n",
        "# 16. Count Frequency of Words in a Sentence\n",
        "sentence = input(\"Enter a sentence: \").split()\n",
        "word_freq = {}\n",
        "for word in sentence:\n",
        "    word_freq[word] = word_freq.get(word, 0) + 1\n",
        "print(\"Word frequencies:\", word_freq)"
      ],
      "metadata": {
        "colab": {
          "base_uri": "https://localhost:8080/"
        },
        "id": "rXZsEitIQgvi",
        "outputId": "a0706421-5afa-4bea-eb23-a10fae6ba1da"
      },
      "execution_count": 16,
      "outputs": [
        {
          "output_type": "stream",
          "name": "stdout",
          "text": [
            "Enter a sentence: a quick brown fox jumps over the lazy dog\n",
            "Word frequencies: {'a': 1, 'quick': 1, 'brown': 1, 'fox': 1, 'jumps': 1, 'over': 1, 'the': 1, 'lazy': 1, 'dog': 1}\n"
          ]
        }
      ]
    },
    {
      "cell_type": "code",
      "source": [
        "\n",
        "# 17. Swap Keys and Values\n",
        "swapped = {v:k for k,v in d.items()}\n",
        "print(\"Swapped dictionary:\", swapped)"
      ],
      "metadata": {
        "colab": {
          "base_uri": "https://localhost:8080/"
        },
        "id": "9gAhqR39Qbk4",
        "outputId": "fc9508b5-f919-4d45-8af5-9ebfc41a078f"
      },
      "execution_count": 17,
      "outputs": [
        {
          "output_type": "stream",
          "name": "stdout",
          "text": [
            "Swapped dictionary: {'Muhammad Ali Ahmar': 'Name', 'S2023266041': 'ID', 'Muridke': 'City', '21': 'Age', 'CS': 'Dept.', 'honda': 'make', 'city': 'model', 'sedan': 'variant'}\n"
          ]
        }
      ]
    },
    {
      "cell_type": "code",
      "source": [
        "\n",
        "# 18. Remove Duplicate Values\n",
        "unique_dict = {}\n",
        "for k,v in d.items():\n",
        "    if v not in unique_dict.values():\n",
        "        unique_dict[k] = v\n",
        "print(\"Dictionary without duplicate values:\", unique_dict)\n"
      ],
      "metadata": {
        "colab": {
          "base_uri": "https://localhost:8080/"
        },
        "id": "qtchNtFfQZcl",
        "outputId": "d6aa6398-6d34-4c20-8c9f-b22bdd9992bc"
      },
      "execution_count": 18,
      "outputs": [
        {
          "output_type": "stream",
          "name": "stdout",
          "text": [
            "Dictionary without duplicate values: {'Name': 'Muhammad Ali Ahmar', 'ID': 'S2023266041', 'City': 'Muridke', 'Age': '21', 'Dept.': 'CS', 'make': 'honda', 'model': 'city', 'variant': 'sedan'}\n"
          ]
        }
      ]
    },
    {
      "cell_type": "code",
      "source": [
        "# 19. Find Common Keys Between Two Dictionaries\n",
        "common_keys = set(d.keys()) & set(d2.keys())\n",
        "print(\"Common keys:\", common_keys)\n",
        "\n"
      ],
      "metadata": {
        "colab": {
          "base_uri": "https://localhost:8080/"
        },
        "id": "vdkwuiXkQXe3",
        "outputId": "7136a70a-701b-47c7-9ab3-fb1f1a7d0508"
      },
      "execution_count": 19,
      "outputs": [
        {
          "output_type": "stream",
          "name": "stdout",
          "text": [
            "Common keys: {'make', 'variant', 'model'}\n"
          ]
        }
      ]
    },
    {
      "cell_type": "code",
      "source": [
        "# 20. Nested Dictionary Example\n",
        "students = {}\n",
        "num_students = int(input(\"Enter number of students: \"))\n",
        "for i in range(num_students):\n",
        "    name = input(\"Enter student name: \")\n",
        "    age = int(input(f\"Enter {name}'s age: \"))\n",
        "    grade = input(f\"Enter {name}'s grade: \")\n",
        "    students[name] = {\"age\": age, \"grade\": grade}\n",
        "print(\"Nested Dictionary:\", students)\n"
      ],
      "metadata": {
        "colab": {
          "base_uri": "https://localhost:8080/"
        },
        "id": "jPKU0arIQQtY",
        "outputId": "6dc0ebda-ec7d-47ff-e072-0fc58900b01f"
      },
      "execution_count": 20,
      "outputs": [
        {
          "output_type": "stream",
          "name": "stdout",
          "text": [
            "Enter number of students: 7\n",
            "Enter student name: A\n",
            "Enter A's age: 21\n",
            "Enter A's grade: B+\n",
            "Enter student name: B\n",
            "Enter B's age: 22\n",
            "Enter B's grade: B-\n",
            "Enter student name: C\n",
            "Enter C's age: 20\n",
            "Enter C's grade: A+\n",
            "Enter student name: D\n",
            "Enter D's age: 21\n",
            "Enter D's grade: D\n",
            "Enter student name: E\n",
            "Enter E's age: 22\n",
            "Enter E's grade: B+\n",
            "Enter student name: F\n",
            "Enter F's age: 23\n",
            "Enter F's grade: F\n",
            "Enter student name: G\n",
            "Enter G's age: 19\n",
            "Enter G's grade: A+\n",
            "Nested Dictionary: {'A': {'age': 21, 'grade': 'B+'}, 'B': {'age': 22, 'grade': 'B-'}, 'C': {'age': 20, 'grade': 'A+'}, 'D': {'age': 21, 'grade': 'D'}, 'E': {'age': 22, 'grade': 'B+'}, 'F': {'age': 23, 'grade': 'F'}, 'G': {'age': 19, 'grade': 'A+'}}\n"
          ]
        }
      ]
    }
  ]
}
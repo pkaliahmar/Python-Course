{
  "nbformat": 4,
  "nbformat_minor": 0,
  "metadata": {
    "colab": {
      "provenance": [],
      "authorship_tag": "ABX9TyPdjvWmMW5/6WP/guKp1rz6",
      "include_colab_link": true
    },
    "kernelspec": {
      "name": "python3",
      "display_name": "Python 3"
    },
    "language_info": {
      "name": "python"
    }
  },
  "cells": [
    {
      "cell_type": "markdown",
      "metadata": {
        "id": "view-in-github",
        "colab_type": "text"
      },
      "source": [
        "<a href=\"https://colab.research.google.com/github/pkaliahmar/Python-Course/blob/main/Class-3.ipynb\" target=\"_parent\"><img src=\"https://colab.research.google.com/assets/colab-badge.svg\" alt=\"Open In Colab\"/></a>"
      ]
    },
    {
      "cell_type": "code",
      "source": [
        "mystring = input (\"Enter a string : \")\n",
        "reverse = mystring[::-1]\n",
        "print (reverse)"
      ],
      "metadata": {
        "id": "7JqUORjNiGKP"
      },
      "execution_count": null,
      "outputs": []
    },
    {
      "cell_type": "code",
      "source": [
        "mystring = input (\"Enter a string : \")\n",
        "\n",
        "print (\"The length of string is : \", len(mystring))"
      ],
      "metadata": {
        "colab": {
          "base_uri": "https://localhost:8080/"
        },
        "id": "wzZBrdtnf7c5",
        "outputId": "0d961de3-bc7c-42ce-df47-c2fad355d8fe"
      },
      "execution_count": 14,
      "outputs": [
        {
          "output_type": "stream",
          "name": "stdout",
          "text": [
            "Enter a string : abcdef\n",
            "The length of string is :  6\n"
          ]
        }
      ]
    },
    {
      "cell_type": "code",
      "source": [
        "mystring = input (\"Enter a string : \")\n",
        "result = mystring.upper()\n",
        "print (result)"
      ],
      "metadata": {
        "colab": {
          "base_uri": "https://localhost:8080/"
        },
        "id": "vg1atFbwgR6p",
        "outputId": "dd08ce02-bdab-4b39-f912-7621874cde69"
      },
      "execution_count": 15,
      "outputs": [
        {
          "output_type": "stream",
          "name": "stdout",
          "text": [
            "Enter a string : zaeeeeeeeeeeeeeeem\n",
            "ZAEEEEEEEEEEEEEEEM\n"
          ]
        }
      ]
    },
    {
      "cell_type": "code",
      "source": [
        "mystring = input (\"Enter a string : \")\n",
        "result = mystring[:3]\n",
        "print(result)"
      ],
      "metadata": {
        "colab": {
          "base_uri": "https://localhost:8080/"
        },
        "id": "tMkhjZB-gePm",
        "outputId": "f2a40498-34ef-4e4b-f38e-9a7b591f2563"
      },
      "execution_count": 17,
      "outputs": [
        {
          "output_type": "stream",
          "name": "stdout",
          "text": [
            "Enter a string : zaeeem\n",
            "zae\n"
          ]
        }
      ]
    },
    {
      "cell_type": "code",
      "source": [
        "mystring = input(\"Enter a string: \")\n",
        "mychar = input(\"Enter a character: \")\n",
        "\n",
        "if mychar in mystring:\n",
        "  print(f\"The character '{mychar}' is in the string.\")\n",
        "else:\n",
        "  print(f\"The character '{mychar}' is not in the string.\")"
      ],
      "metadata": {
        "id": "rbK925_Mgw_h"
      },
      "execution_count": null,
      "outputs": []
    },
    {
      "cell_type": "code",
      "source": [
        "mystring = input (\"Enter a string : \")\n",
        "mystring.replace(\"a\",\"o\")"
      ],
      "metadata": {
        "colab": {
          "base_uri": "https://localhost:8080/",
          "height": 53
        },
        "id": "tezGuriwiOIL",
        "outputId": "e636fcbb-9652-452b-b39d-8a893c555aa3"
      },
      "execution_count": 18,
      "outputs": [
        {
          "name": "stdout",
          "output_type": "stream",
          "text": [
            "Enter a string : aliahmar\n"
          ]
        },
        {
          "output_type": "execute_result",
          "data": {
            "text/plain": [
              "'oliohmor'"
            ],
            "application/vnd.google.colaboratory.intrinsic+json": {
              "type": "string"
            }
          },
          "metadata": {},
          "execution_count": 18
        }
      ]
    },
    {
      "cell_type": "code",
      "source": [
        "string = input (\"Enter a string : \")\n",
        "string[1:]"
      ],
      "metadata": {
        "colab": {
          "base_uri": "https://localhost:8080/",
          "height": 53
        },
        "id": "zwPl4AAtikYI",
        "outputId": "638b60da-f3cb-41e8-807d-289554a4e043"
      },
      "execution_count": 19,
      "outputs": [
        {
          "name": "stdout",
          "output_type": "stream",
          "text": [
            "Enter a string : Hello world\n"
          ]
        },
        {
          "output_type": "execute_result",
          "data": {
            "text/plain": [
              "'ello world'"
            ],
            "application/vnd.google.colaboratory.intrinsic+json": {
              "type": "string"
            }
          },
          "metadata": {},
          "execution_count": 19
        }
      ]
    },
    {
      "cell_type": "code",
      "source": [
        "mystring = input(\"Enter a string: \")\n",
        "mychar = input(\"Enter a character: \")\n",
        "\n",
        "mystring.count(mychar)"
      ],
      "metadata": {
        "colab": {
          "base_uri": "https://localhost:8080/"
        },
        "id": "bw6XRMXbjB3Z",
        "outputId": "8281351f-6228-4920-b4eb-16104ab6c2f7"
      },
      "execution_count": 21,
      "outputs": [
        {
          "name": "stdout",
          "output_type": "stream",
          "text": [
            "Enter a string: zaeem\n",
            "Enter a character: e\n"
          ]
        },
        {
          "output_type": "execute_result",
          "data": {
            "text/plain": [
              "2"
            ]
          },
          "metadata": {},
          "execution_count": 21
        }
      ]
    },
    {
      "cell_type": "code",
      "source": [
        "mystring = input (\"Enter a string : \")\n",
        "result = mystring.lower()\n",
        "print (result)"
      ],
      "metadata": {
        "colab": {
          "base_uri": "https://localhost:8080/"
        },
        "id": "--o5irsXjcg4",
        "outputId": "ec5a88c8-f071-4f0d-831c-0a176fc122b8"
      },
      "execution_count": 22,
      "outputs": [
        {
          "output_type": "stream",
          "name": "stdout",
          "text": [
            "Enter a string : ZAEEEM\n",
            "zaeeem\n"
          ]
        }
      ]
    },
    {
      "cell_type": "code",
      "source": [
        "string = input (\"Enter a string : \")\n",
        "\n",
        "string[::2]\n"
      ],
      "metadata": {
        "colab": {
          "base_uri": "https://localhost:8080/",
          "height": 53
        },
        "id": "nQ-Kt7_yjkfT",
        "outputId": "d9d9273d-8644-42e8-d0ba-4b76fba4a0d9"
      },
      "execution_count": 23,
      "outputs": [
        {
          "name": "stdout",
          "output_type": "stream",
          "text": [
            "Enter a string : zaeem sheikh\n"
          ]
        },
        {
          "output_type": "execute_result",
          "data": {
            "text/plain": [
              "'zemsek'"
            ],
            "application/vnd.google.colaboratory.intrinsic+json": {
              "type": "string"
            }
          },
          "metadata": {},
          "execution_count": 23
        }
      ]
    }
  ]
}
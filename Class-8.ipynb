{
  "nbformat": 4,
  "nbformat_minor": 0,
  "metadata": {
    "colab": {
      "provenance": [],
      "authorship_tag": "ABX9TyOYkFU0muSa6VUC1XtVctRd",
      "include_colab_link": true
    },
    "kernelspec": {
      "name": "python3",
      "display_name": "Python 3"
    },
    "language_info": {
      "name": "python"
    }
  },
  "cells": [
    {
      "cell_type": "markdown",
      "metadata": {
        "id": "view-in-github",
        "colab_type": "text"
      },
      "source": [
        "<a href=\"https://colab.research.google.com/github/pkaliahmar/Python-Course/blob/main/Class-8.ipynb\" target=\"_parent\"><img src=\"https://colab.research.google.com/assets/colab-badge.svg\" alt=\"Open In Colab\"/></a>"
      ]
    },
    {
      "cell_type": "code",
      "execution_count": 4,
      "metadata": {
        "id": "WGToHDPqGRf0",
        "colab": {
          "base_uri": "https://localhost:8080/"
        },
        "outputId": "da5390bb-0149-4a58-befe-ddf886e401a9"
      },
      "outputs": [
        {
          "output_type": "stream",
          "name": "stdout",
          "text": [
            "Enter a number : -9\n",
            "Negative\n"
          ]
        }
      ],
      "source": [
        "# 1. Check if a number is positive or negative\n",
        "num = int(input (\"Enter a number : \"))\n",
        "if num >= 0:\n",
        "    result = \"Positive\"\n",
        "else:\n",
        "    result = \"Negative\"\n",
        "print(result)"
      ]
    },
    {
      "cell_type": "code",
      "source": [
        "# 2. Find the maximum of two numbers\n",
        "a = int (input(\"Enter a : \"))\n",
        "b = int (input(\"Enter b : \"))\n",
        "if a > b:\n",
        "    maximum = a\n",
        "else:\n",
        "    maximum = b\n",
        "print(\"Max:\", maximum)"
      ],
      "metadata": {
        "id": "avwx43LZGyCF",
        "colab": {
          "base_uri": "https://localhost:8080/"
        },
        "outputId": "b31f02b3-aef3-4931-aebb-93ad5396217c"
      },
      "execution_count": 1,
      "outputs": [
        {
          "output_type": "stream",
          "name": "stdout",
          "text": [
            "Enter a : 23\n",
            "Enter b : 2\n",
            "Max: 23\n"
          ]
        }
      ]
    },
    {
      "cell_type": "code",
      "source": [
        "# 3. Check if a number is even or odd\n",
        "x = int (input (\"Enter a number : \"))\n",
        "if x % 2 == 0:\n",
        "    parity = \"Even\"\n",
        "else:\n",
        "    parity = \"Odd\"\n",
        "print(parity)"
      ],
      "metadata": {
        "colab": {
          "base_uri": "https://localhost:8080/"
        },
        "id": "QxrQwf9PH97N",
        "outputId": "689f8345-b11b-4762-97e0-1e1922f50670"
      },
      "execution_count": 6,
      "outputs": [
        {
          "output_type": "stream",
          "name": "stdout",
          "text": [
            "Enter a number : 678\n",
            "Even\n"
          ]
        }
      ]
    },
    {
      "cell_type": "code",
      "source": [
        "# 4. Grade based on marks\n",
        "marks = int (input (\"Enter marks of student : \"))\n",
        "if marks >= 50:\n",
        "    grade = \"Pass\"\n",
        "else:\n",
        "    grade = \"Fail\"\n",
        "print(grade)"
      ],
      "metadata": {
        "colab": {
          "base_uri": "https://localhost:8080/"
        },
        "id": "tsFoYopYIKEZ",
        "outputId": "8b7c8fc3-c3ba-479e-d1f3-ebe03712cce2"
      },
      "execution_count": 7,
      "outputs": [
        {
          "output_type": "stream",
          "name": "stdout",
          "text": [
            "Enter marks of student : 67\n",
            "Pass\n"
          ]
        }
      ]
    },
    {
      "cell_type": "code",
      "source": [
        "# 5. Absolute value of a number\n",
        "n = int (input (\"Enter a number : \"))\n",
        "if n < 0:\n",
        "    abs_val = -n\n",
        "else:\n",
        "    abs_val = n\n",
        "print(abs_val)"
      ],
      "metadata": {
        "colab": {
          "base_uri": "https://localhost:8080/"
        },
        "id": "eiIcrtvCIUaN",
        "outputId": "fe37c25c-d654-4dd3-ce65-007729d86f87"
      },
      "execution_count": 9,
      "outputs": [
        {
          "output_type": "stream",
          "name": "stdout",
          "text": [
            "Enter a number : -9\n",
            "9\n"
          ]
        }
      ]
    },
    {
      "cell_type": "code",
      "source": [],
      "metadata": {
        "id": "qlEyG6UcIrkQ"
      },
      "execution_count": null,
      "outputs": []
    }
  ]
}
{
  "nbformat": 4,
  "nbformat_minor": 0,
  "metadata": {
    "colab": {
      "provenance": [],
      "authorship_tag": "ABX9TyM2FYnwk7hUbnaSP26I/pmH",
      "include_colab_link": true
    },
    "kernelspec": {
      "name": "python3",
      "display_name": "Python 3"
    },
    "language_info": {
      "name": "python"
    }
  },
  "cells": [
    {
      "cell_type": "markdown",
      "metadata": {
        "id": "view-in-github",
        "colab_type": "text"
      },
      "source": [
        "<a href=\"https://colab.research.google.com/github/pkaliahmar/Python-Course/blob/main/Class-8.ipynb\" target=\"_parent\"><img src=\"https://colab.research.google.com/assets/colab-badge.svg\" alt=\"Open In Colab\"/></a>"
      ]
    },
    {
      "cell_type": "code",
      "execution_count": 4,
      "metadata": {
        "id": "WGToHDPqGRf0",
        "colab": {
          "base_uri": "https://localhost:8080/"
        },
        "outputId": "da5390bb-0149-4a58-befe-ddf886e401a9"
      },
      "outputs": [
        {
          "output_type": "stream",
          "name": "stdout",
          "text": [
            "Enter a number : -9\n",
            "Negative\n"
          ]
        }
      ],
      "source": [
        "# 1. Check if a number is positive or negative\n",
        "num = int(input (\"Enter a number : \"))\n",
        "if num >= 0:\n",
        "    result = \"Positive\"\n",
        "else:\n",
        "    result = \"Negative\"\n",
        "print(result)"
      ]
    },
    {
      "cell_type": "code",
      "source": [
        "# 2. Find the maximum of two numbers\n",
        "a = int (input(\"Enter a : \"))\n",
        "b = int (input(\"Enter b : \"))\n",
        "if a > b:\n",
        "    maximum = a\n",
        "else:\n",
        "    maximum = b\n",
        "print(\"Max:\", maximum)"
      ],
      "metadata": {
        "id": "avwx43LZGyCF",
        "colab": {
          "base_uri": "https://localhost:8080/"
        },
        "outputId": "b31f02b3-aef3-4931-aebb-93ad5396217c"
      },
      "execution_count": 1,
      "outputs": [
        {
          "output_type": "stream",
          "name": "stdout",
          "text": [
            "Enter a : 23\n",
            "Enter b : 2\n",
            "Max: 23\n"
          ]
        }
      ]
    },
    {
      "cell_type": "code",
      "source": [
        "# 3. Check if a number is even or odd\n",
        "x = int (input (\"Enter a number : \"))\n",
        "if x % 2 == 0:\n",
        "    parity = \"Even\"\n",
        "else:\n",
        "    parity = \"Odd\"\n",
        "print(parity)"
      ],
      "metadata": {
        "colab": {
          "base_uri": "https://localhost:8080/"
        },
        "id": "QxrQwf9PH97N",
        "outputId": "689f8345-b11b-4762-97e0-1e1922f50670"
      },
      "execution_count": 6,
      "outputs": [
        {
          "output_type": "stream",
          "name": "stdout",
          "text": [
            "Enter a number : 678\n",
            "Even\n"
          ]
        }
      ]
    },
    {
      "cell_type": "code",
      "source": [
        "# 4. Grade based on marks\n",
        "marks = int (input (\"Enter marks of student : \"))\n",
        "if marks >= 50:\n",
        "    grade = \"Pass\"\n",
        "else:\n",
        "    grade = \"Fail\"\n",
        "print(grade)"
      ],
      "metadata": {
        "colab": {
          "base_uri": "https://localhost:8080/"
        },
        "id": "tsFoYopYIKEZ",
        "outputId": "8b7c8fc3-c3ba-479e-d1f3-ebe03712cce2"
      },
      "execution_count": 7,
      "outputs": [
        {
          "output_type": "stream",
          "name": "stdout",
          "text": [
            "Enter marks of student : 67\n",
            "Pass\n"
          ]
        }
      ]
    },
    {
      "cell_type": "code",
      "source": [
        "# 5. Absolute value of a number\n",
        "n = int (input (\"Enter a number : \"))\n",
        "if n < 0:\n",
        "    abs_val = -n\n",
        "else:\n",
        "    abs_val = n\n",
        "print(abs_val)"
      ],
      "metadata": {
        "colab": {
          "base_uri": "https://localhost:8080/"
        },
        "id": "eiIcrtvCIUaN",
        "outputId": "fe37c25c-d654-4dd3-ce65-007729d86f87"
      },
      "execution_count": 9,
      "outputs": [
        {
          "output_type": "stream",
          "name": "stdout",
          "text": [
            "Enter a number : -9\n",
            "9\n"
          ]
        }
      ]
    },
    {
      "cell_type": "code",
      "source": [
        "# 1. Check if a number is positive or negative\n",
        "num = int(input(\"Enter a number: \"))\n",
        "result = \"Positive\" if num >= 0 else \"Negative\"\n",
        "print(\"result : \",result)"
      ],
      "metadata": {
        "colab": {
          "base_uri": "https://localhost:8080/"
        },
        "id": "qlEyG6UcIrkQ",
        "outputId": "bdbba6cf-ff4a-4117-8835-a7c1c6688652"
      },
      "execution_count": 13,
      "outputs": [
        {
          "output_type": "stream",
          "name": "stdout",
          "text": [
            "Enter a number: 9\n",
            "result :  Positive\n"
          ]
        }
      ]
    },
    {
      "cell_type": "code",
      "source": [
        "# 2. Find the maximum of two numbers\n",
        "a = int(input(\"Enter a: \"))\n",
        "b = int(input(\"Enter b: \"))\n",
        "maximum = a if a > b else b\n",
        "print(\"Max:\", maximum)"
      ],
      "metadata": {
        "colab": {
          "base_uri": "https://localhost:8080/"
        },
        "id": "iz4zEdw2JTKU",
        "outputId": "9144527a-46dd-4173-ffbe-428a859cbde8"
      },
      "execution_count": 15,
      "outputs": [
        {
          "output_type": "stream",
          "name": "stdout",
          "text": [
            "Enter a: 45\n",
            "Enter b: 4\n",
            "Max: 45\n"
          ]
        }
      ]
    },
    {
      "cell_type": "code",
      "source": [
        "# 3. Check if a number is even or odd\n",
        "x = int(input(\"Enter a number: \"))\n",
        "parity = \"Even\" if x % 2 == 0 else \"Odd\"\n",
        "print(\"Result : \",parity)"
      ],
      "metadata": {
        "colab": {
          "base_uri": "https://localhost:8080/"
        },
        "id": "1EFggCHwJaNp",
        "outputId": "212d122d-5eed-4cc2-903e-e2dc61a22c53"
      },
      "execution_count": 16,
      "outputs": [
        {
          "output_type": "stream",
          "name": "stdout",
          "text": [
            "Enter a number: 78\n",
            "Result :  Even\n"
          ]
        }
      ]
    },
    {
      "cell_type": "code",
      "source": [
        "# 4. Grade based on marks\n",
        "marks = int(input(\"Enter marks of student: \"))\n",
        "grade = \"Pass\" if marks >= 50 else \"Fail\"\n",
        "print(\"Grade : \",grade)\n"
      ],
      "metadata": {
        "colab": {
          "base_uri": "https://localhost:8080/"
        },
        "id": "TdMU3wsKJfDk",
        "outputId": "9bb2bf09-037f-4504-bb7b-93afc75c6e0c"
      },
      "execution_count": 17,
      "outputs": [
        {
          "output_type": "stream",
          "name": "stdout",
          "text": [
            "Enter marks of student: 49\n",
            "Grade :  Fail\n"
          ]
        }
      ]
    },
    {
      "cell_type": "code",
      "source": [
        "# 5. Absolute value of a number\n",
        "n = int(input(\"Enter a number: \"))\n",
        "abs_val = -n if n < 0 else n\n",
        "print(\"Result : \",abs_val)"
      ],
      "metadata": {
        "colab": {
          "base_uri": "https://localhost:8080/"
        },
        "id": "LyKhxQZzJkMA",
        "outputId": "748b2624-b60f-4ba5-d84f-197b8f9989d2"
      },
      "execution_count": 19,
      "outputs": [
        {
          "output_type": "stream",
          "name": "stdout",
          "text": [
            "Enter a number: 78\n",
            "Result :  78\n"
          ]
        }
      ]
    },
    {
      "cell_type": "code",
      "source": [
        "# 1. Classify number as positive, negative, or zero\n",
        "num = int(input(\"Enter a number: \"))\n",
        "if num > 0:\n",
        "    result = \"Positive\"\n",
        "elif num < 0:\n",
        "    result = \"Negative\"\n",
        "else:\n",
        "    result = \"Zero\"\n",
        "print(result)"
      ],
      "metadata": {
        "colab": {
          "base_uri": "https://localhost:8080/"
        },
        "id": "_ZMLX0XqJ1xV",
        "outputId": "3948f6e8-910f-4200-ca9a-f50df92890ce"
      },
      "execution_count": 21,
      "outputs": [
        {
          "output_type": "stream",
          "name": "stdout",
          "text": [
            "Enter a number: 0\n",
            "Zero\n"
          ]
        }
      ]
    },
    {
      "cell_type": "code",
      "source": [
        "# 2. Find the largest of three numbers\n",
        "a = int(input(\"Enter a: \"))\n",
        "b = int(input(\"Enter b: \"))\n",
        "c = int(input(\"Enter c: \"))\n",
        "if a >= b and a >= c:\n",
        "    largest = a\n",
        "elif b >= a and b >= c:\n",
        "    largest = b\n",
        "else:\n",
        "    largest = c\n",
        "print(\"Largest:\", largest)"
      ],
      "metadata": {
        "colab": {
          "base_uri": "https://localhost:8080/"
        },
        "id": "26WODtHgKKx3",
        "outputId": "45348a04-b82b-43fd-bfea-919e82bbf89c"
      },
      "execution_count": 22,
      "outputs": [
        {
          "output_type": "stream",
          "name": "stdout",
          "text": [
            "Enter a: 12\n",
            "Enter b: 13\n",
            "Enter c: 11\n",
            "Largest: 13\n"
          ]
        }
      ]
    },
    {
      "cell_type": "code",
      "source": [
        "# 3. Grade system (A, B, C, Fail)\n",
        "marks = int(input(\"Enter marks: \"))\n",
        "if marks >= 80:\n",
        "    grade = \"A\"\n",
        "elif marks >= 60:\n",
        "    grade = \"B\"\n",
        "elif marks >= 40:\n",
        "    grade = \"C\"\n",
        "else:\n",
        "    grade = \"Fail\"\n",
        "print(\"Grade:\", grade)"
      ],
      "metadata": {
        "colab": {
          "base_uri": "https://localhost:8080/"
        },
        "id": "238q7l0dKZXC",
        "outputId": "eedf05e6-6c04-4c03-f746-cfdd142cf0a6"
      },
      "execution_count": 23,
      "outputs": [
        {
          "output_type": "stream",
          "name": "stdout",
          "text": [
            "Enter marks: 67\n",
            "Grade: B\n"
          ]
        }
      ]
    },
    {
      "cell_type": "code",
      "source": [
        "# 4. Check age group\n",
        "age = int(input(\"Enter age: \"))\n",
        "if age < 13:\n",
        "    group = \"Child\"\n",
        "elif age < 20:\n",
        "    group = \"Teen\"\n",
        "elif age < 60:\n",
        "    group = \"Adult\"\n",
        "else:\n",
        "    group = \"Senior\"\n",
        "print(\"Age Group:\", group)"
      ],
      "metadata": {
        "colab": {
          "base_uri": "https://localhost:8080/"
        },
        "id": "QZ7T9YRiKcsm",
        "outputId": "4b9b9d43-12c0-4e07-945a-9794b1e49f4d"
      },
      "execution_count": 24,
      "outputs": [
        {
          "output_type": "stream",
          "name": "stdout",
          "text": [
            "Enter age: 56\n",
            "Age Group: Adult\n"
          ]
        }
      ]
    },
    {
      "cell_type": "code",
      "source": [
        "# 5. Day of week from number (1–7)\n",
        "day = int(input(\"Enter a number (1-7): \"))\n",
        "if day == 1:\n",
        "    day_name = \"Monday\"\n",
        "elif day == 2:\n",
        "    day_name = \"Tuesday\"\n",
        "elif day == 3:\n",
        "    day_name = \"Wednesday\"\n",
        "elif day == 4:\n",
        "    day_name = \"Thursday\"\n",
        "elif day == 5:\n",
        "    day_name = \"Friday\"\n",
        "elif day == 6:\n",
        "    day_name = \"Saturday\"\n",
        "elif day == 7:\n",
        "    day_name = \"Sunday\"\n",
        "else:\n",
        "    day_name = \"Invalid\"\n",
        "print(\"Day:\", day_name)"
      ],
      "metadata": {
        "colab": {
          "base_uri": "https://localhost:8080/"
        },
        "id": "5bHf2FsSKlCp",
        "outputId": "6cd21df1-a184-4e5e-9de3-58ac5bbf4d94"
      },
      "execution_count": 25,
      "outputs": [
        {
          "output_type": "stream",
          "name": "stdout",
          "text": [
            "Enter a number (1-7): 6\n",
            "Day: Saturday\n"
          ]
        }
      ]
    },
    {
      "cell_type": "code",
      "source": [
        "# 1. Positive, Negative, or Zero\n",
        "num = int(input(\"Enter a number: \"))\n",
        "result = \"Positive\" if num > 0 else \"Negative\" if num < 0 else \"Zero\"\n",
        "print(result)"
      ],
      "metadata": {
        "colab": {
          "base_uri": "https://localhost:8080/"
        },
        "id": "s7oMSB4mKrFK",
        "outputId": "b9e8e80c-5775-43a6-8e82-f02b8fed393e"
      },
      "execution_count": 26,
      "outputs": [
        {
          "output_type": "stream",
          "name": "stdout",
          "text": [
            "Enter a number: -9\n",
            "Negative\n"
          ]
        }
      ]
    },
    {
      "cell_type": "code",
      "source": [
        "# 2. Largest of three numbers\n",
        "a = int(input(\"Enter a: \"))\n",
        "b = int(input(\"Enter b: \"))\n",
        "c = int(input(\"Enter c: \"))\n",
        "largest = a if (a >= b and a >= c) else b if (b >= a and b >= c) else c\n",
        "print(\"Largest:\", largest)"
      ],
      "metadata": {
        "colab": {
          "base_uri": "https://localhost:8080/"
        },
        "id": "pyszEQCdKur1",
        "outputId": "34bc5270-fcd3-43e8-913d-c219dd62279e"
      },
      "execution_count": 27,
      "outputs": [
        {
          "output_type": "stream",
          "name": "stdout",
          "text": [
            "Enter a: 12\n",
            "Enter b: 11\n",
            "Enter c: 133\n",
            "Largest: 133\n"
          ]
        }
      ]
    },
    {
      "cell_type": "code",
      "source": [
        "# 3. Grade system\n",
        "marks = int(input(\"Enter marks: \"))\n",
        "grade = \"A\" if marks >= 80 else \"B\" if marks >= 60 else \"C\" if marks >= 40 else \"Fail\"\n",
        "print(\"Grade:\", grade)"
      ],
      "metadata": {
        "colab": {
          "base_uri": "https://localhost:8080/"
        },
        "id": "MSXMXaNrKzNH",
        "outputId": "1af5c4d5-700a-4a88-96d7-4ed690b0ceb7"
      },
      "execution_count": 28,
      "outputs": [
        {
          "output_type": "stream",
          "name": "stdout",
          "text": [
            "Enter marks: 34\n",
            "Grade: Fail\n"
          ]
        }
      ]
    },
    {
      "cell_type": "code",
      "source": [
        "# 4. Age group\n",
        "age = int(input(\"Enter age: \"))\n",
        "group = \"Child\" if age < 13 else \"Teen\" if age < 20 else \"Adult\" if age < 60 else \"Senior\"\n",
        "print(\"Age Group:\", group)`"
      ],
      "metadata": {
        "colab": {
          "base_uri": "https://localhost:8080/"
        },
        "id": "0SbNJvjVK3Ml",
        "outputId": "b1e6d119-7694-408d-c6d4-5bc876f5ec5e"
      },
      "execution_count": 29,
      "outputs": [
        {
          "output_type": "stream",
          "name": "stdout",
          "text": [
            "Enter age: 65\n",
            "Age Group: Senior\n"
          ]
        }
      ]
    },
    {
      "cell_type": "code",
      "source": [
        "# 5. Day of week (1–7)\n",
        "day = int(input(\"Enter a number (1-7): \"))\n",
        "day_name = \"Monday\" if day == 1 else \\\n",
        "            \"Tuesday\" if day == 2 else \\\n",
        "            \"Wednesday\" if day == 3 else \\\n",
        "            \"Thursday\" if day == 4 else \\\n",
        "            \"Friday\" if day == 5 else \\\n",
        "            \"Saturday\" if day == 6 else \\\n",
        "            \"Sunday\" if day == 7 else \"Invalid\"\n",
        "print(\"Day:\", day_name)"
      ],
      "metadata": {
        "colab": {
          "base_uri": "https://localhost:8080/"
        },
        "id": "8vBvi2FsK6HT",
        "outputId": "ddbd48de-fc4c-4877-a293-3378431f861d"
      },
      "execution_count": 31,
      "outputs": [
        {
          "output_type": "stream",
          "name": "stdout",
          "text": [
            "Enter a number (1-7): 4\n",
            "Day: Thursday\n"
          ]
        }
      ]
    }
  ]
}
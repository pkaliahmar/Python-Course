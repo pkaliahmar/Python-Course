{
  "nbformat": 4,
  "nbformat_minor": 0,
  "metadata": {
    "colab": {
      "provenance": [],
      "authorship_tag": "ABX9TyPu7tgF9+RvrCRsqhimkocI",
      "include_colab_link": true
    },
    "kernelspec": {
      "name": "python3",
      "display_name": "Python 3"
    },
    "language_info": {
      "name": "python"
    }
  },
  "cells": [
    {
      "cell_type": "markdown",
      "metadata": {
        "id": "view-in-github",
        "colab_type": "text"
      },
      "source": [
        "<a href=\"https://colab.research.google.com/github/pkaliahmar/Python-Course/blob/main/Class-2.ipynb\" target=\"_parent\"><img src=\"https://colab.research.google.com/assets/colab-badge.svg\" alt=\"Open In Colab\"/></a>"
      ]
    },
    {
      "cell_type": "code",
      "execution_count": 1,
      "metadata": {
        "id": "Y3gNVfdTbh1j",
        "colab": {
          "base_uri": "https://localhost:8080/"
        },
        "outputId": "6ddd221d-53df-458a-f75e-1332b35387d4"
      },
      "outputs": [
        {
          "output_type": "stream",
          "name": "stdout",
          "text": [
            "Hello, Python!\n"
          ]
        }
      ],
      "source": [
        "print (\"Hello, Python!\")\n"
      ]
    },
    {
      "cell_type": "code",
      "source": [
        "Name = input(\"Enter your Name : \")\n",
        "print(\"Hello , My name is \",Name)"
      ],
      "metadata": {
        "colab": {
          "base_uri": "https://localhost:8080/"
        },
        "id": "OrolFDpXebK2",
        "outputId": "4bb720cd-4dd8-4852-d0fd-18e34d8e2a8e"
      },
      "execution_count": 4,
      "outputs": [
        {
          "output_type": "stream",
          "name": "stdout",
          "text": [
            "Enter your Name : Ali\n",
            "Hello , My name is  Ali\n"
          ]
        }
      ]
    },
    {
      "cell_type": "code",
      "source": [
        "num_1 = int (input(\"Enter 1st number : \" ))\n",
        "num_2 = int (input(\"Enter 2nd number : \" ))\n",
        "sum = num_1 + num_2\n",
        "print(\"The sum of num_1 and num_2 is = \",sum)\n"
      ],
      "metadata": {
        "colab": {
          "base_uri": "https://localhost:8080/"
        },
        "id": "OUR_DPkceuI-",
        "outputId": "3393f48b-0dfe-4b6b-ea69-2e379cd316e7"
      },
      "execution_count": 6,
      "outputs": [
        {
          "output_type": "stream",
          "name": "stdout",
          "text": [
            "Enter 1st number : 23\n",
            "Enter 2nd number : 2\n",
            "The sum of num_1 and num_2 is =  25\n"
          ]
        }
      ]
    },
    {
      "cell_type": "code",
      "source": [
        "num_1 = int (input(\"Enter 1st number : \" ))\n",
        "num_2 = int (input(\"Enter 2nd number : \" ))\n",
        "sub = num_1 - num_2\n",
        "print(\"The difference of num_1 and num_2 is = \",sub)"
      ],
      "metadata": {
        "colab": {
          "base_uri": "https://localhost:8080/"
        },
        "id": "tqIxnlODfMJU",
        "outputId": "4cb6ea57-ff5e-4ea2-e20c-6447fd127d1b"
      },
      "execution_count": 11,
      "outputs": [
        {
          "output_type": "stream",
          "name": "stdout",
          "text": [
            "Enter 1st number : 23\n",
            "Enter 2nd number : 2\n",
            "The difference of num_1 and num_2 is =  21\n"
          ]
        }
      ]
    },
    {
      "cell_type": "code",
      "source": [
        "Name = \"Muhammad Ali Ahmar\"\n",
        "print(f\"{Name},  {type(Name)}\")"
      ],
      "metadata": {
        "colab": {
          "base_uri": "https://localhost:8080/"
        },
        "id": "89elGVqifR_q",
        "outputId": "23d09b8a-0f5e-4fb9-cd0f-c22d05ce619f"
      },
      "execution_count": 14,
      "outputs": [
        {
          "output_type": "stream",
          "name": "stdout",
          "text": [
            "Muhammad Ali Ahmar,  <class 'str'>\n"
          ]
        }
      ]
    },
    {
      "cell_type": "code",
      "source": [
        "num_1 = float(input(\"Enter 1st number : \" ))\n",
        "num_2 = float (input(\"Enter 2nd number : \" ))\n",
        "product = num_1 * num_2\n",
        "print(\"The product of num_1 and num_2 is = \",product)"
      ],
      "metadata": {
        "colab": {
          "base_uri": "https://localhost:8080/"
        },
        "id": "H3BrFwF2qCZ2",
        "outputId": "08c2fd1b-e1c6-4738-9d73-1d45a4e0abca"
      },
      "execution_count": 16,
      "outputs": [
        {
          "output_type": "stream",
          "name": "stdout",
          "text": [
            "Enter 1st number : 5\n",
            "Enter 2nd number : 6\n",
            "The product of num_1 and num_2 is =  30.0\n"
          ]
        }
      ]
    },
    {
      "cell_type": "code",
      "source": [
        "number_1 = int(input(\"Enter a number : \"))\n",
        "number_2 = int(number)\n",
        "sum = number_2 + 10\n",
        "print (\"sum of number and 10 is : \", sum)"
      ],
      "metadata": {
        "colab": {
          "base_uri": "https://localhost:8080/"
        },
        "id": "JweZyiEWqSHT",
        "outputId": "79ec8e7c-4479-4f01-c171-a3ff124f219f"
      },
      "execution_count": 20,
      "outputs": [
        {
          "output_type": "stream",
          "name": "stdout",
          "text": [
            "Enter a number : 23\n",
            "sum of number and 10 is :  33\n"
          ]
        }
      ]
    },
    {
      "cell_type": "code",
      "source": [
        "num_1 = int (input(\"Enter a number : \"))\n",
        "num_2 = str(num_1)\n",
        "print (f\"{num_2}\",{type(num_2)})"
      ],
      "metadata": {
        "colab": {
          "base_uri": "https://localhost:8080/"
        },
        "id": "p3_mj3jDrBhF",
        "outputId": "72d2ce9c-5240-4b1a-b38c-416334c5b4c4"
      },
      "execution_count": 21,
      "outputs": [
        {
          "output_type": "stream",
          "name": "stdout",
          "text": [
            "Enter a number : 2222\n",
            "2222 {<class 'str'>}\n"
          ]
        }
      ]
    },
    {
      "cell_type": "code",
      "source": [
        "num_1 = float(input(\"Enter 1st number : \" ))\n",
        "num_2 = float (input(\"Enter 2nd number : \" ))\n",
        "div = num_1 / num_2\n",
        "print(\"num_1 divided by num_2 is = \",div)"
      ],
      "metadata": {
        "colab": {
          "base_uri": "https://localhost:8080/"
        },
        "id": "5wGhXgglrmMP",
        "outputId": "04a5a0fa-88aa-4302-ead7-ee8ab35fdbd5"
      },
      "execution_count": 22,
      "outputs": [
        {
          "output_type": "stream",
          "name": "stdout",
          "text": [
            "Enter 1st number : 22\n",
            "Enter 2nd number : 2\n",
            "num_1 divided by num_2 is =  11.0\n"
          ]
        }
      ]
    },
    {
      "cell_type": "code",
      "source": [
        "a,b,c = 5,6,7\n",
        "print (a,\"  \",b,\"  \",c)"
      ],
      "metadata": {
        "colab": {
          "base_uri": "https://localhost:8080/"
        },
        "id": "M6tj912vsAvU",
        "outputId": "3197abc0-03c1-421f-bb04-ddf5c17908f7"
      },
      "execution_count": 23,
      "outputs": [
        {
          "output_type": "stream",
          "name": "stdout",
          "text": [
            "5    6    7\n"
          ]
        }
      ]
    }
  ]
}
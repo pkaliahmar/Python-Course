{
  "nbformat": 4,
  "nbformat_minor": 0,
  "metadata": {
    "colab": {
      "provenance": [],
      "authorship_tag": "ABX9TyPeW0/HMxlpZrn/9uXQCg0q",
      "include_colab_link": true
    },
    "kernelspec": {
      "name": "python3",
      "display_name": "Python 3"
    },
    "language_info": {
      "name": "python"
    }
  },
  "cells": [
    {
      "cell_type": "markdown",
      "metadata": {
        "id": "view-in-github",
        "colab_type": "text"
      },
      "source": [
        "<a href=\"https://colab.research.google.com/github/pkaliahmar/Python-Course/blob/main/Class-2.ipynb\" target=\"_parent\"><img src=\"https://colab.research.google.com/assets/colab-badge.svg\" alt=\"Open In Colab\"/></a>"
      ]
    },
    {
      "cell_type": "code",
      "execution_count": 1,
      "metadata": {
        "id": "Y3gNVfdTbh1j",
        "colab": {
          "base_uri": "https://localhost:8080/"
        },
        "outputId": "6ddd221d-53df-458a-f75e-1332b35387d4"
      },
      "outputs": [
        {
          "output_type": "stream",
          "name": "stdout",
          "text": [
            "Hello, Python!\n"
          ]
        }
      ],
      "source": [
        "print (\"Hello, Python!\")\n"
      ]
    },
    {
      "cell_type": "code",
      "source": [
        "Name = input(\"Enter your Name : \")\n",
        "print(\"Hello , My name is \",Name)"
      ],
      "metadata": {
        "colab": {
          "base_uri": "https://localhost:8080/"
        },
        "id": "OrolFDpXebK2",
        "outputId": "4bb720cd-4dd8-4852-d0fd-18e34d8e2a8e"
      },
      "execution_count": 4,
      "outputs": [
        {
          "output_type": "stream",
          "name": "stdout",
          "text": [
            "Enter your Name : Ali\n",
            "Hello , My name is  Ali\n"
          ]
        }
      ]
    },
    {
      "cell_type": "code",
      "source": [
        "num_1 = int (input(\"Enter 1st number : \" ))\n",
        "num_2 = int (input(\"Enter 2nd number : \" ))\n",
        "sum = num_1 + num_2\n",
        "print(\"The sum of num_1 and num_2 is = \",sum)\n"
      ],
      "metadata": {
        "colab": {
          "base_uri": "https://localhost:8080/"
        },
        "id": "OUR_DPkceuI-",
        "outputId": "3393f48b-0dfe-4b6b-ea69-2e379cd316e7"
      },
      "execution_count": 6,
      "outputs": [
        {
          "output_type": "stream",
          "name": "stdout",
          "text": [
            "Enter 1st number : 23\n",
            "Enter 2nd number : 2\n",
            "The sum of num_1 and num_2 is =  25\n"
          ]
        }
      ]
    },
    {
      "cell_type": "code",
      "source": [
        "num_1 = int (input(\"Enter 1st number : \" ))\n",
        "num_2 = int (input(\"Enter 2nd number : \" ))\n",
        "sub = num_1 - num_2\n",
        "print(\"The difference of num_1 and num_2 is = \",sub)"
      ],
      "metadata": {
        "colab": {
          "base_uri": "https://localhost:8080/"
        },
        "id": "tqIxnlODfMJU",
        "outputId": "4cb6ea57-ff5e-4ea2-e20c-6447fd127d1b"
      },
      "execution_count": 11,
      "outputs": [
        {
          "output_type": "stream",
          "name": "stdout",
          "text": [
            "Enter 1st number : 23\n",
            "Enter 2nd number : 2\n",
            "The difference of num_1 and num_2 is =  21\n"
          ]
        }
      ]
    },
    {
      "cell_type": "code",
      "source": [
        "Name = \"Muhammad Ali Ahmar\"\n",
        "print (Name)\n",
        "type(Name)"
      ],
      "metadata": {
        "colab": {
          "base_uri": "https://localhost:8080/"
        },
        "id": "89elGVqifR_q",
        "outputId": "accbc895-bbad-491a-ef47-d995a51c8c3a"
      },
      "execution_count": 9,
      "outputs": [
        {
          "output_type": "stream",
          "name": "stdout",
          "text": [
            "Muhammad Ali Ahmar\n"
          ]
        },
        {
          "output_type": "execute_result",
          "data": {
            "text/plain": [
              "str"
            ]
          },
          "metadata": {},
          "execution_count": 9
        }
      ]
    }
  ]
}
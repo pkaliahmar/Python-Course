{
  "nbformat": 4,
  "nbformat_minor": 0,
  "metadata": {
    "colab": {
      "provenance": [],
      "authorship_tag": "ABX9TyNhZqoYIw+NgWUtkcYB4UpK",
      "include_colab_link": true
    },
    "kernelspec": {
      "name": "python3",
      "display_name": "Python 3"
    },
    "language_info": {
      "name": "python"
    }
  },
  "cells": [
    {
      "cell_type": "markdown",
      "metadata": {
        "id": "view-in-github",
        "colab_type": "text"
      },
      "source": [
        "<a href=\"https://colab.research.google.com/github/pkaliahmar/Python-Course/blob/main/Class-11(lists).ipynb\" target=\"_parent\"><img src=\"https://colab.research.google.com/assets/colab-badge.svg\" alt=\"Open In Colab\"/></a>"
      ]
    },
    {
      "cell_type": "code",
      "execution_count": 2,
      "metadata": {
        "colab": {
          "base_uri": "https://localhost:8080/"
        },
        "id": "Wa0udLV7N8u7",
        "outputId": "5f28e48d-4273-40bb-b43d-9a00c4d7dede"
      },
      "outputs": [
        {
          "output_type": "stream",
          "name": "stdout",
          "text": [
            "Enter number of elements: 6\n",
            "Enter element 1: 4\n",
            "Enter element 2: 3\n",
            "Enter element 3: 2\n",
            "Enter element 4: 5\n",
            "Enter element 5: 1\n",
            "Enter element 6: 1\n",
            "Created List: [4, 3, 2, 5, 1, 1]\n"
          ]
        }
      ],
      "source": [
        "# 1. Create a List of N numbers entered by user\n",
        "n = int(input(\"Enter number of elements: \"))\n",
        "lst = []\n",
        "for i in range(n):\n",
        "    val = int(input(f\"Enter element {i+1}: \"))\n",
        "    lst.append(val)\n",
        "print(\"Created List:\", lst)\n"
      ]
    },
    {
      "cell_type": "code",
      "source": [
        "# 2. Print First and Last Element of List\n",
        "print(\"First element:\", lst[0])\n",
        "print(\"Last element:\", lst[-1])\n"
      ],
      "metadata": {
        "colab": {
          "base_uri": "https://localhost:8080/"
        },
        "id": "72wuWVpwOEkA",
        "outputId": "223c9bd8-fd71-4243-b492-ed0d1bdad7f9"
      },
      "execution_count": 3,
      "outputs": [
        {
          "output_type": "stream",
          "name": "stdout",
          "text": [
            "First element: 4\n",
            "Last element: 1\n"
          ]
        }
      ]
    },
    {
      "cell_type": "code",
      "source": [
        "\n",
        "# 3. Find Maximum and Minimum in List\n",
        "print(\"Maximum:\", max(lst))\n",
        "print(\"Minimum:\", min(lst))"
      ],
      "metadata": {
        "colab": {
          "base_uri": "https://localhost:8080/"
        },
        "id": "xW_m_67LOHgL",
        "outputId": "a87d6eb3-fcd3-4b7a-eab1-4d6b8146ee46"
      },
      "execution_count": 4,
      "outputs": [
        {
          "output_type": "stream",
          "name": "stdout",
          "text": [
            "Maximum: 5\n",
            "Minimum: 1\n"
          ]
        }
      ]
    },
    {
      "cell_type": "code",
      "source": [
        "# 4. Calculate Sum of List Elements\n",
        "print(\"Sum of elements:\", sum(lst))\n",
        "\n"
      ],
      "metadata": {
        "colab": {
          "base_uri": "https://localhost:8080/"
        },
        "id": "zS7OFBRtOuXc",
        "outputId": "714ab9c7-2e53-4989-b0f9-bfa4c22f8eb2"
      },
      "execution_count": 6,
      "outputs": [
        {
          "output_type": "stream",
          "name": "stdout",
          "text": [
            "Sum of elements: 16\n"
          ]
        }
      ]
    },
    {
      "cell_type": "code",
      "source": [
        "\n",
        "# 5. Search for an Element in List\n",
        "x = int(input(\"Enter number to search: \"))\n",
        "if x in lst:\n",
        "    print(x, \"found at index\", lst.index(x))\n",
        "else:\n",
        "    print(x, \"not found\")\n"
      ],
      "metadata": {
        "colab": {
          "base_uri": "https://localhost:8080/"
        },
        "id": "RvmBgesnPTKM",
        "outputId": "23882376-1053-4263-ea2c-6715df4ecfce"
      },
      "execution_count": 7,
      "outputs": [
        {
          "output_type": "stream",
          "name": "stdout",
          "text": [
            "Enter number to search: 12\n",
            "12 not found\n"
          ]
        }
      ]
    },
    {
      "cell_type": "code",
      "source": [
        "\n",
        "# 6. Count Occurrences of an Element\n",
        "num = int(input(\"Enter number to count: \"))\n",
        "print(\"Occurrences of\", num, \":\", lst.count(num))"
      ],
      "metadata": {
        "colab": {
          "base_uri": "https://localhost:8080/"
        },
        "id": "HHR2b3axOsfU",
        "outputId": "d087c374-7d6d-46bb-a890-a53f8a99c22f"
      },
      "execution_count": 8,
      "outputs": [
        {
          "output_type": "stream",
          "name": "stdout",
          "text": [
            "Enter number to count: 2\n",
            "Occurrences of 2 : 1\n"
          ]
        }
      ]
    },
    {
      "cell_type": "code",
      "source": [
        "# 7. Reverse a List\n",
        "print(\"Reversed List:\", lst[::-1])\n"
      ],
      "metadata": {
        "colab": {
          "base_uri": "https://localhost:8080/"
        },
        "id": "zv9w99K_OnKG",
        "outputId": "632751bd-7b1e-4609-e8ad-5d91003ca9d6"
      },
      "execution_count": 9,
      "outputs": [
        {
          "output_type": "stream",
          "name": "stdout",
          "text": [
            "Reversed List: [1, 1, 5, 2, 3, 4]\n"
          ]
        }
      ]
    },
    {
      "cell_type": "code",
      "source": [
        "# 8. Sort List in Ascending Order\n",
        "print(\"Sorted (Ascending):\", sorted(lst))"
      ],
      "metadata": {
        "colab": {
          "base_uri": "https://localhost:8080/"
        },
        "id": "kBY0wYZJOlCP",
        "outputId": "09b2637e-3535-4aaa-e6b0-b2b7e880920c"
      },
      "execution_count": 10,
      "outputs": [
        {
          "output_type": "stream",
          "name": "stdout",
          "text": [
            "Sorted (Ascending): [1, 1, 2, 3, 4, 5]\n"
          ]
        }
      ]
    },
    {
      "cell_type": "code",
      "source": [
        "# 9. Sort List in Descending Order\n",
        "print(\"Sorted (Descending):\", sorted(lst, reverse=True))\n"
      ],
      "metadata": {
        "colab": {
          "base_uri": "https://localhost:8080/"
        },
        "id": "5MIM9j9mOi70",
        "outputId": "61c47aa1-eb09-429c-b02d-79b87dccf1cc"
      },
      "execution_count": 11,
      "outputs": [
        {
          "output_type": "stream",
          "name": "stdout",
          "text": [
            "Sorted (Descending): [5, 4, 3, 2, 1, 1]\n"
          ]
        }
      ]
    },
    {
      "cell_type": "code",
      "source": [
        "# 10. Remove an Element from List\n",
        "rem = int(input(\"Enter element to remove: \"))\n",
        "if rem in lst:\n",
        "    lst.remove(rem)\n",
        "    print(\"Updated List:\", lst)\n",
        "else:\n",
        "    print(\"Element not in list\")"
      ],
      "metadata": {
        "colab": {
          "base_uri": "https://localhost:8080/"
        },
        "id": "eY3O3uBPOfsf",
        "outputId": "19ca8a5f-324e-4f3a-d13c-7de0258aebc0"
      },
      "execution_count": 12,
      "outputs": [
        {
          "output_type": "stream",
          "name": "stdout",
          "text": [
            "Enter element to remove: 5\n",
            "Updated List: [4, 3, 2, 1, 1]\n"
          ]
        }
      ]
    },
    {
      "cell_type": "code",
      "source": [
        "# 11. Insert an Element at a Specific Position\n",
        "pos = int(input(\"Enter position (0-based index): \"))\n",
        "val = int(input(\"Enter value to insert: \"))\n",
        "lst.insert(pos, val)\n",
        "print(\"List after insertion:\", lst)"
      ],
      "metadata": {
        "colab": {
          "base_uri": "https://localhost:8080/"
        },
        "id": "mih_ehwgOdrK",
        "outputId": "d52740a0-8116-4800-bd40-1f09ba416a0f"
      },
      "execution_count": 13,
      "outputs": [
        {
          "output_type": "stream",
          "name": "stdout",
          "text": [
            "Enter position (0-based index): 0\n",
            "Enter value to insert: 7\n",
            "List after insertion: [7, 4, 3, 2, 1, 1]\n"
          ]
        }
      ]
    },
    {
      "cell_type": "code",
      "source": [
        "\n",
        "# 12. Slice First 3 Elements\n",
        "print(\"First 3 elements:\", lst[:3])"
      ],
      "metadata": {
        "colab": {
          "base_uri": "https://localhost:8080/"
        },
        "id": "JyBdnGCuObk_",
        "outputId": "7363b346-25d1-497d-f810-5091a960cbf2"
      },
      "execution_count": 14,
      "outputs": [
        {
          "output_type": "stream",
          "name": "stdout",
          "text": [
            "First 3 elements: [7, 4, 3]\n"
          ]
        }
      ]
    },
    {
      "cell_type": "code",
      "source": [
        "# 13. Slice Last 3 Elements\n",
        "print(\"Last 3 elements:\", lst[-3:])\n"
      ],
      "metadata": {
        "colab": {
          "base_uri": "https://localhost:8080/"
        },
        "id": "gJVAPc-sOZSV",
        "outputId": "578c4186-1848-4f2e-8dbb-b2d9ef411f30"
      },
      "execution_count": 15,
      "outputs": [
        {
          "output_type": "stream",
          "name": "stdout",
          "text": [
            "Last 3 elements: [2, 1, 1]\n"
          ]
        }
      ]
    },
    {
      "cell_type": "code",
      "source": [
        "# 14. Find Even Numbers in List\n",
        "evens = [i for i in lst if i % 2 == 0]\n",
        "print(\"Even numbers:\", evens)\n"
      ],
      "metadata": {
        "colab": {
          "base_uri": "https://localhost:8080/"
        },
        "id": "gStjWy49OV4J",
        "outputId": "ce909750-7eaf-4e14-a4bd-747925268fad"
      },
      "execution_count": 16,
      "outputs": [
        {
          "output_type": "stream",
          "name": "stdout",
          "text": [
            "Even numbers: [4, 2]\n"
          ]
        }
      ]
    },
    {
      "cell_type": "code",
      "source": [
        "# 15. Find Odd Numbers in List\n",
        "odds = [i for i in lst if i % 2 != 0]\n",
        "print(\"Odd numbers:\", odds)\n"
      ],
      "metadata": {
        "colab": {
          "base_uri": "https://localhost:8080/"
        },
        "id": "-GPTILO_OUQc",
        "outputId": "aabb0cb1-458d-4a51-c57e-d05bd91d44be"
      },
      "execution_count": 17,
      "outputs": [
        {
          "output_type": "stream",
          "name": "stdout",
          "text": [
            "Odd numbers: [7, 3, 1, 1]\n"
          ]
        }
      ]
    },
    {
      "cell_type": "code",
      "source": [
        "# 16. Find Squares of List Elements\n",
        "squares = [i**2 for i in lst]\n",
        "print(\"Squares:\", squares)\n",
        "\n"
      ],
      "metadata": {
        "colab": {
          "base_uri": "https://localhost:8080/"
        },
        "id": "RxrenPKoOS4g",
        "outputId": "422a7537-96ae-45d8-bf48-0095c30a4e58"
      },
      "execution_count": 18,
      "outputs": [
        {
          "output_type": "stream",
          "name": "stdout",
          "text": [
            "Squares: [49, 16, 9, 4, 1, 1]\n"
          ]
        }
      ]
    },
    {
      "cell_type": "code",
      "source": [
        "# 17. Find Second Largest Element\n",
        "if len(lst) >= 2:\n",
        "    unique_lst = list(set(lst))\n",
        "    unique_lst.sort()\n",
        "    print(\"Second Largest:\", unique_lst[-2])\n",
        "else:\n",
        "    print(\"Not enough elements\")"
      ],
      "metadata": {
        "colab": {
          "base_uri": "https://localhost:8080/"
        },
        "id": "qbCVTStDORQc",
        "outputId": "b4377ad1-ed88-444f-9251-cde0544932e4"
      },
      "execution_count": 19,
      "outputs": [
        {
          "output_type": "stream",
          "name": "stdout",
          "text": [
            "Second Largest: 4\n"
          ]
        }
      ]
    },
    {
      "cell_type": "code",
      "source": [
        "\n",
        "# 18. Remove Duplicates from List\n",
        "unique = list(set(lst))\n",
        "print(\"List without duplicates:\", unique)"
      ],
      "metadata": {
        "colab": {
          "base_uri": "https://localhost:8080/"
        },
        "id": "TWeyBf8TOOp0",
        "outputId": "b7a2555a-0a19-4214-f21f-cbe32b53dfbf"
      },
      "execution_count": 20,
      "outputs": [
        {
          "output_type": "stream",
          "name": "stdout",
          "text": [
            "List without duplicates: [1, 2, 3, 4, 7]\n"
          ]
        }
      ]
    },
    {
      "cell_type": "code",
      "source": [
        "# 19. Concatenate Two Lists\n",
        "n2 = int(input(\"Enter number of elements for 2nd list: \"))\n",
        "lst2 = []\n",
        "for i in range(n2):\n",
        "    val = int(input(f\"Enter element {i+1}: \"))\n",
        "    lst2.append(val)\n",
        "combined = lst + lst2\n",
        "print(\"Concatenated List:\", combined)"
      ],
      "metadata": {
        "colab": {
          "base_uri": "https://localhost:8080/"
        },
        "id": "AtYOqr0iOM4p",
        "outputId": "d6110ef1-a931-4d8d-c043-bcd54dd7f121"
      },
      "execution_count": 21,
      "outputs": [
        {
          "output_type": "stream",
          "name": "stdout",
          "text": [
            "Enter number of elements for 2nd list: 6\n",
            "Enter element 1: 7\n",
            "Enter element 2: 8\n",
            "Enter element 3: 7\n",
            "Enter element 4: 8\n",
            "Enter element 5: 7\n",
            "Enter element 6: 8\n",
            "Concatenated List: [7, 4, 3, 2, 1, 1, 7, 8, 7, 8, 7, 8]\n"
          ]
        }
      ]
    },
    {
      "cell_type": "code",
      "source": [
        "# 20. Find Common Elements Between Two Lists\n",
        "common = list(set(lst) & set(lst2))\n",
        "print(\"Common elements:\", common)\n"
      ],
      "metadata": {
        "colab": {
          "base_uri": "https://localhost:8080/"
        },
        "id": "yd6fKqiIOLOs",
        "outputId": "07834f2c-6795-4f2f-f7b0-22cc2883ecfc"
      },
      "execution_count": 22,
      "outputs": [
        {
          "output_type": "stream",
          "name": "stdout",
          "text": [
            "Common elements: [7]\n"
          ]
        }
      ]
    }
  ]
}
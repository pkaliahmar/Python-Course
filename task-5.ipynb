{
  "nbformat": 4,
  "nbformat_minor": 0,
  "metadata": {
    "colab": {
      "provenance": [],
      "authorship_tag": "ABX9TyOfF15jSvUhIC4txrg4Z9qW",
      "include_colab_link": true
    },
    "kernelspec": {
      "name": "python3",
      "display_name": "Python 3"
    },
    "language_info": {
      "name": "python"
    }
  },
  "cells": [
    {
      "cell_type": "markdown",
      "metadata": {
        "id": "view-in-github",
        "colab_type": "text"
      },
      "source": [
        "<a href=\"https://colab.research.google.com/github/pkaliahmar/Python-Course/blob/main/task-5.ipynb\" target=\"_parent\"><img src=\"https://colab.research.google.com/assets/colab-badge.svg\" alt=\"Open In Colab\"/></a>"
      ]
    },
    {
      "cell_type": "code",
      "execution_count": 1,
      "metadata": {
        "colab": {
          "base_uri": "https://localhost:8080/"
        },
        "id": "FR8U1W6L2KfH",
        "outputId": "663b46bd-19b5-4edd-ee25-8eae87a5f3cd"
      },
      "outputs": [
        {
          "output_type": "stream",
          "name": "stdout",
          "text": [
            "How many elements? 5\n",
            "Enter element: 12\n",
            "Enter element: 34\n",
            "Enter element: 56\n",
            "Enter element: 78\n",
            "Enter element: 910\n",
            "First element: 12\n",
            "Last element: 910\n"
          ]
        }
      ],
      "source": [
        "#1 Question: Create a tuple from user input and print the first and last element.\n",
        "n = int(input(\"How many elements? \"))\n",
        "data = []\n",
        "for i in range(n):\n",
        "    data.append(input(\"Enter element: \"))\n",
        "data = tuple(data)\n",
        "print(\"First element:\", data[0])\n",
        "print(\"Last element:\", data[-1])\n"
      ]
    },
    {
      "cell_type": "code",
      "source": [
        "#2 Question: Take user input and create a set to remove duplicates.\n",
        "n = int(input(\"How many items? \"))\n",
        "items = set()\n",
        "for i in range(n):\n",
        "    items.add(input(\"Enter item: \"))\n",
        "print(\"Unique items are:\", items)\n"
      ],
      "metadata": {
        "colab": {
          "base_uri": "https://localhost:8080/"
        },
        "id": "yogtbf7J6Hb2",
        "outputId": "8835ae5d-69e2-4e32-cfbf-6e0cc10a88b4"
      },
      "execution_count": 2,
      "outputs": [
        {
          "output_type": "stream",
          "name": "stdout",
          "text": [
            "How many items? 4\n",
            "Enter item: apple\n",
            "Enter item: banana\n",
            "Enter item: apple\n",
            "Enter item: orange\n",
            "Unique items are: {'orange', 'apple', 'banana'}\n"
          ]
        }
      ]
    },
    {
      "cell_type": "code",
      "source": [
        "#3 Question: Take a list of numbers and calculate the sum using a loop.\n",
        "n = int(input(\"How many numbers? \"))\n",
        "nums = []\n",
        "for i in range(n):\n",
        "    nums.append(int(input(\"Enter number: \")))\n",
        "total = 0\n",
        "for num in nums:\n",
        "    total += num\n",
        "print(\"Sum is:\", total)\n"
      ],
      "metadata": {
        "colab": {
          "base_uri": "https://localhost:8080/"
        },
        "id": "7rq_Tim96IZx",
        "outputId": "5594ed9e-7e27-4924-82c4-2407edc18431"
      },
      "execution_count": 3,
      "outputs": [
        {
          "output_type": "stream",
          "name": "stdout",
          "text": [
            "How many numbers? 10\n",
            "Enter number: 1\n",
            "Enter number: 2\n",
            "Enter number: 3\n",
            "Enter number: 4\n",
            "Enter number: 5\n",
            "Enter number: 5\n",
            "Enter number: 5\n",
            "Enter number: 3\n",
            "Enter number: 2\n",
            "Enter number: 4\n",
            "Sum is: 34\n"
          ]
        }
      ]
    },
    {
      "cell_type": "code",
      "source": [
        "#4 Question: Check if the entered number is even or odd.\n",
        "num = int(input(\"Enter a number: \"))\n",
        "if num % 2 == 0:\n",
        "    print(num, \"is Even\")\n",
        "else:\n",
        "    print(num, \"is Odd\")\n"
      ],
      "metadata": {
        "colab": {
          "base_uri": "https://localhost:8080/"
        },
        "id": "53DJyhIC6I6R",
        "outputId": "ed942f89-280a-4f98-c546-2eae643b220e"
      },
      "execution_count": 4,
      "outputs": [
        {
          "output_type": "stream",
          "name": "stdout",
          "text": [
            "Enter a number: 123\n",
            "123 is Odd\n"
          ]
        }
      ]
    },
    {
      "cell_type": "code",
      "source": [
        "#5 Question: Take input, convert to tuple, and print the element at index 2.\n",
        "n = int(input(\"How many colors? \"))\n",
        "colors = []\n",
        "for i in range(n):\n",
        "    colors.append(input(\"Enter color: \"))\n",
        "colors = tuple(colors)\n",
        "print(\"Element at index 2 is:\", colors[2])\n"
      ],
      "metadata": {
        "colab": {
          "base_uri": "https://localhost:8080/"
        },
        "id": "MhY4zp-E6JEw",
        "outputId": "b316976a-e60d-41d1-db41-2f6f69426165"
      },
      "execution_count": 5,
      "outputs": [
        {
          "output_type": "stream",
          "name": "stdout",
          "text": [
            "How many colors? 3\n",
            "Enter color: red\n",
            "Enter color: teal\n",
            "Enter color: pink\n",
            "Element at index 2 is: pink\n"
          ]
        }
      ]
    },
    {
      "cell_type": "code",
      "source": [
        "#6 Question: Take two sets from the user and print their union.\n",
        "n1 = int(input(\"How many elements in first set? \"))\n",
        "set1 = set()\n",
        "for i in range(n1):\n",
        "    set1.add(input(\"Enter element: \"))\n",
        "\n",
        "n2 = int(input(\"How many elements in second set? \"))\n",
        "set2 = set()\n",
        "for i in range(n2):\n",
        "    set2.add(input(\"Enter element: \"))\n",
        "\n",
        "print(\"Union of sets is:\", set1.union(set2))\n",
        ""
      ],
      "metadata": {
        "colab": {
          "base_uri": "https://localhost:8080/"
        },
        "id": "FliVn4dJ6JZQ",
        "outputId": "6b64c58f-caae-495a-df82-18302bf9cd3c"
      },
      "execution_count": 6,
      "outputs": [
        {
          "output_type": "stream",
          "name": "stdout",
          "text": [
            "How many elements in first set? 3\n",
            "Enter element: 1\n",
            "Enter element: 2\n",
            "Enter element: 3\n",
            "How many elements in second set? 4\n",
            "Enter element: 4\n",
            "Enter element: 5\n",
            "Enter element: 6\n",
            "Enter element: 7\n",
            "Union of sets is: {'6', '7', '1', '2', '4', '3', '5'}\n"
          ]
        }
      ]
    },
    {
      "cell_type": "code",
      "source": [
        "#7 Question: Find the largest number in a list.\n",
        "n = int(input(\"How many numbers? \"))\n",
        "nums = []\n",
        "for i in range(n):\n",
        "    nums.append(int(input(\"Enter number: \")))\n",
        "print(\"Maximum number is:\", max(nums))\n"
      ],
      "metadata": {
        "colab": {
          "base_uri": "https://localhost:8080/"
        },
        "id": "7QgzSCxa6Jpl",
        "outputId": "b9bfe31d-7e6e-438e-bab6-bf69a37839f7"
      },
      "execution_count": 8,
      "outputs": [
        {
          "output_type": "stream",
          "name": "stdout",
          "text": [
            "How many numbers? 6\n",
            "Enter number: 88\n",
            "Enter number: 33\n",
            "Enter number: 44\n",
            "Enter number: 55\n",
            "Enter number: 666\n",
            "Enter number: 213\n",
            "Maximum number is: 666\n"
          ]
        }
      ]
    },
    {
      "cell_type": "code",
      "source": [
        "#8 Question: Print multiplication table of a given number.\n",
        "n = int(input(\"Enter a number: \"))\n",
        "for i in range(1, 11):\n",
        "    print(n, \"x\", i, \"=\", n*i)\n"
      ],
      "metadata": {
        "colab": {
          "base_uri": "https://localhost:8080/"
        },
        "id": "mrJfYod16J4D",
        "outputId": "d9f653db-7113-4a97-e29a-4ec09b07c85d"
      },
      "execution_count": 9,
      "outputs": [
        {
          "output_type": "stream",
          "name": "stdout",
          "text": [
            "Enter a number: 7\n",
            "7 x 1 = 7\n",
            "7 x 2 = 14\n",
            "7 x 3 = 21\n",
            "7 x 4 = 28\n",
            "7 x 5 = 35\n",
            "7 x 6 = 42\n",
            "7 x 7 = 49\n",
            "7 x 8 = 56\n",
            "7 x 9 = 63\n",
            "7 x 10 = 70\n"
          ]
        }
      ]
    },
    {
      "cell_type": "code",
      "source": [
        "#9 Question: Find the largest number among three entered by the user.\n",
        "a = int(input(\"Enter first number: \"))\n",
        "b = int(input(\"Enter second number: \"))\n",
        "c = int(input(\"Enter third number: \"))\n",
        "\n",
        "if a >= b and a >= c:\n",
        "    print(\"Largest is:\", a)\n",
        "elif b >= a and b >= c:\n",
        "    print(\"Largest is:\", b)\n",
        "else:\n",
        "    print(\"Largest is:\", c)\n"
      ],
      "metadata": {
        "colab": {
          "base_uri": "https://localhost:8080/"
        },
        "id": "0zkosjxk6KFe",
        "outputId": "a6363b4b-478b-4027-e640-ac9f60ca9c85"
      },
      "execution_count": 10,
      "outputs": [
        {
          "output_type": "stream",
          "name": "stdout",
          "text": [
            "Enter first number: 23\n",
            "Enter second number: 21\n",
            "Enter third number: 22\n",
            "Largest is: 23\n"
          ]
        }
      ]
    },
    {
      "cell_type": "code",
      "source": [
        "#10 Question: Take a list of numbers and print only the even ones.\n",
        "n = int(input(\"How many numbers? \"))\n",
        "nums = []\n",
        "for i in range(n):\n",
        "    nums.append(int(input(\"Enter number: \")))\n",
        "\n",
        "print(\"Even numbers are:\")\n",
        "for num in nums:\n",
        "    if num % 2 == 0:\n",
        "        print(num)\n"
      ],
      "metadata": {
        "colab": {
          "base_uri": "https://localhost:8080/"
        },
        "id": "ef8AeX3f6KtZ",
        "outputId": "1a44549f-8885-4745-8e0c-604315062c30"
      },
      "execution_count": 12,
      "outputs": [
        {
          "output_type": "stream",
          "name": "stdout",
          "text": [
            "How many numbers? 6\n",
            "Enter number: 2\n",
            "Enter number: 3\n",
            "Enter number: 4\n",
            "Enter number: 5\n",
            "Enter number: 6\n",
            "Enter number: 2\n",
            "Even numbers are:\n",
            "2\n",
            "4\n",
            "6\n",
            "2\n"
          ]
        }
      ]
    }
  ]
}
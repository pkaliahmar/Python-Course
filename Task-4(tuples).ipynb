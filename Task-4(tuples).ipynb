{
  "nbformat": 4,
  "nbformat_minor": 0,
  "metadata": {
    "colab": {
      "provenance": [],
      "authorship_tag": "ABX9TyP1J/yf0MsiZLMZkdJT9eKb",
      "include_colab_link": true
    },
    "kernelspec": {
      "name": "python3",
      "display_name": "Python 3"
    },
    "language_info": {
      "name": "python"
    }
  },
  "cells": [
    {
      "cell_type": "markdown",
      "metadata": {
        "id": "view-in-github",
        "colab_type": "text"
      },
      "source": [
        "<a href=\"https://colab.research.google.com/github/pkaliahmar/Python-Course/blob/main/Task-4(tuples).ipynb\" target=\"_parent\"><img src=\"https://colab.research.google.com/assets/colab-badge.svg\" alt=\"Open In Colab\"/></a>"
      ]
    },
    {
      "cell_type": "code",
      "execution_count": 1,
      "metadata": {
        "colab": {
          "base_uri": "https://localhost:8080/"
        },
        "id": "cmWDCCxeITlF",
        "outputId": "20ad579d-ffa6-47c7-c921-e388eddd8694"
      },
      "outputs": [
        {
          "output_type": "stream",
          "name": "stdout",
          "text": [
            "Enter elements separated by space: 12 cars 1947 orange-juice \n",
            "Tuple is: ('12', 'cars', '1947', 'orange-juice')\n"
          ]
        }
      ],
      "source": [
        "# Q1 (Tuple) - Create a tuple from user input\n",
        "data = tuple(input(\"Enter elements separated by space: \").split())\n",
        "print(\"Tuple is:\", data)\n"
      ]
    },
    {
      "cell_type": "code",
      "source": [
        "# Q2 (Tuple) - Access element by index\n",
        "data = tuple(input(\"Enter elements separated by space: \").split())\n",
        "index = int(input(\"Enter index to access: \"))\n",
        "print(\"Element at index\", index, \":\", data[index])\n"
      ],
      "metadata": {
        "colab": {
          "base_uri": "https://localhost:8080/"
        },
        "id": "mW1wiO8aJY9u",
        "outputId": "b3bed64a-1c88-4bbf-b8ae-c03469423eed"
      },
      "execution_count": 2,
      "outputs": [
        {
          "output_type": "stream",
          "name": "stdout",
          "text": [
            "Enter elements separated by space: 12 cars 1947 orange-juice happy\n",
            "Enter index to access: 3\n",
            "Element at index 3 : orange-juice\n"
          ]
        }
      ]
    },
    {
      "cell_type": "code",
      "source": [
        "# Q3 (Tuple) - Find length of tuple\n",
        "data = tuple(input(\"Enter elements separated by space: \").split())\n",
        "print(\"Length of tuple:\", len(data))\n"
      ],
      "metadata": {
        "colab": {
          "base_uri": "https://localhost:8080/"
        },
        "id": "mgJvlbMeJmS7",
        "outputId": "6845447f-a032-45bd-c589-b242e04e2400"
      },
      "execution_count": 3,
      "outputs": [
        {
          "output_type": "stream",
          "name": "stdout",
          "text": [
            "Enter elements separated by space: 1 2 3 4 5 6 7\n",
            "Length of tuple: 7\n"
          ]
        }
      ]
    },
    {
      "cell_type": "code",
      "source": [
        "# Q4 (Tuple) - Count occurrences of an element\n",
        "data = tuple(input(\"Enter elements separated by space: \").split())\n",
        "element = input(\"Enter element to count: \")\n",
        "print(\"Count of\", element, \":\", data.count(element))\n"
      ],
      "metadata": {
        "colab": {
          "base_uri": "https://localhost:8080/"
        },
        "id": "n-9OhjfyJoOA",
        "outputId": "0542b0d6-58cc-4dc2-9f75-d9f0fd2e03b5"
      },
      "execution_count": 4,
      "outputs": [
        {
          "output_type": "stream",
          "name": "stdout",
          "text": [
            "Enter elements separated by space: 6 9 2 5 4 8 5 7 1 7 4 5 3 6 2 9 8 4 5\n",
            "Enter element to count: 6\n",
            "Count of 6 : 2\n"
          ]
        }
      ]
    },
    {
      "cell_type": "code",
      "source": [
        "# Q5 (Tuple) - Find index of an element\n",
        "data = tuple(input(\"Enter elements separated by space: \").split())\n",
        "element = input(\"Enter element to find index: \")\n",
        "print(\"Index of\", element, \":\", data.index(element))\n"
      ],
      "metadata": {
        "colab": {
          "base_uri": "https://localhost:8080/"
        },
        "id": "YKwNOMlEJqDk",
        "outputId": "0461d555-e0fe-4510-8b49-4c00e9a852ca"
      },
      "execution_count": 5,
      "outputs": [
        {
          "output_type": "stream",
          "name": "stdout",
          "text": [
            "Enter elements separated by space: 6 9 2 5 4 8 5 7 1 7 4 5 3 6 2 9 8 4 5\n",
            "Enter element to find index: 1\n",
            "Index of 1 : 8\n"
          ]
        }
      ]
    },
    {
      "cell_type": "code",
      "source": [
        "# Q6 (Tuple) - Check if element exists\n",
        "data = tuple(input(\"Enter elements separated by space: \").split())\n",
        "element = input(\"Enter element to check: \")\n",
        "print(element, \"exists in tuple?\", element in data)\n"
      ],
      "metadata": {
        "colab": {
          "base_uri": "https://localhost:8080/"
        },
        "id": "ouOUzjOYJrdI",
        "outputId": "a6e8957f-e2f9-4c36-b18b-16feb41f0a23"
      },
      "execution_count": 6,
      "outputs": [
        {
          "output_type": "stream",
          "name": "stdout",
          "text": [
            "Enter elements separated by space: 6 9 2 5 4 8 5 7 1 7 4 5 3 6 2 9 8 4 5\n",
            "Enter element to check: 7\n",
            "7 exists in tuple? True\n"
          ]
        }
      ]
    },
    {
      "cell_type": "code",
      "source": [
        "# Q7 (Tuple) - Convert tuple to list\n",
        "data = tuple(input(\"Enter elements separated by space: \").split())\n",
        "converted = list(data)\n",
        "print(\"Converted List:\", converted)\n"
      ],
      "metadata": {
        "colab": {
          "base_uri": "https://localhost:8080/"
        },
        "id": "gjgpgjGjJssJ",
        "outputId": "94ad928a-71aa-4f71-f940-5f0ea253cdf6"
      },
      "execution_count": 9,
      "outputs": [
        {
          "output_type": "stream",
          "name": "stdout",
          "text": [
            "Enter elements separated by space: 6 9 2 5 4 8 5 7 1 7 4 5 3 6 2 9 8 4 5\n",
            "Converted List: ['6', '9', '2', '5', '4', '8', '5', '7', '1', '7', '4', '5', '3', '6', '2', '9', '8', '4', '5']\n"
          ]
        }
      ]
    },
    {
      "cell_type": "code",
      "source": [
        "# Q8 (Tuple) - Concatenate two tuples\n",
        "data1 = tuple(input(\"Enter first tuple elements: \").split())\n",
        "data2 = tuple(input(\"Enter second tuple elements: \").split())\n",
        "print(\"Concatenated Tuple:\", data1 + data2)\n"
      ],
      "metadata": {
        "colab": {
          "base_uri": "https://localhost:8080/"
        },
        "id": "-T5uOD51Ju4D",
        "outputId": "af3e024a-e9f9-4b3e-97ba-4ff96a6aa79b"
      },
      "execution_count": 10,
      "outputs": [
        {
          "output_type": "stream",
          "name": "stdout",
          "text": [
            "Enter first tuple elements: 6 9 2 5 4 8 5 7 1 7 4 5 3 6 2 9 8 4 5\n",
            "Enter second tuple elements: red blue orange brown pink teal \n",
            "Concatenated Tuple: ('6', '9', '2', '5', '4', '8', '5', '7', '1', '7', '4', '5', '3', '6', '2', '9', '8', '4', '5', 'red', 'blue', 'orange', 'brown', 'pink', 'teal')\n"
          ]
        }
      ]
    },
    {
      "cell_type": "code",
      "source": [
        "# Q9 (Tuple) - Repeat a tuple\n",
        "data = tuple(input(\"Enter elements separated by space: \").split())\n",
        "times = int(input(\"How many times to repeat? \"))\n",
        "print(\"Repeated Tuple:\", data * times)\n"
      ],
      "metadata": {
        "colab": {
          "base_uri": "https://localhost:8080/"
        },
        "id": "4fIBGjOuJv1v",
        "outputId": "d27f555c-3871-48e2-f56c-630d7b06597c"
      },
      "execution_count": 11,
      "outputs": [
        {
          "output_type": "stream",
          "name": "stdout",
          "text": [
            "Enter elements separated by space: 6 9 2 5 4 8 5 7 1 7 4 5 3 6 2 9 8 4 5\n",
            "How many times to repeat? 4\n",
            "Repeated Tuple: ('6', '9', '2', '5', '4', '8', '5', '7', '1', '7', '4', '5', '3', '6', '2', '9', '8', '4', '5', '6', '9', '2', '5', '4', '8', '5', '7', '1', '7', '4', '5', '3', '6', '2', '9', '8', '4', '5', '6', '9', '2', '5', '4', '8', '5', '7', '1', '7', '4', '5', '3', '6', '2', '9', '8', '4', '5', '6', '9', '2', '5', '4', '8', '5', '7', '1', '7', '4', '5', '3', '6', '2', '9', '8', '4', '5')\n"
          ]
        }
      ]
    },
    {
      "cell_type": "code",
      "source": [
        "# Q10 (Tuple) - Find maximum and minimum\n",
        "data = tuple(map(int, input(\"Enter numbers separated by space: \").split()))\n",
        "print(\"Max:\", max(data))\n",
        "print(\"Min:\", min(data))\n"
      ],
      "metadata": {
        "colab": {
          "base_uri": "https://localhost:8080/"
        },
        "id": "zFd_eL6bJw2P",
        "outputId": "1f339b5e-ab16-435b-a984-984a0adc1263"
      },
      "execution_count": 12,
      "outputs": [
        {
          "output_type": "stream",
          "name": "stdout",
          "text": [
            "Enter numbers separated by space: 6 9 2 5 4 8 5 7 1 7 4 5 3 6 2 9 8 4 5\n",
            "Max: 9\n",
            "Min: 1\n"
          ]
        }
      ]
    }
  ]
}
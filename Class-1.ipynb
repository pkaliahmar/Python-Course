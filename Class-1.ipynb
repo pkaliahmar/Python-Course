{
  "nbformat": 4,
  "nbformat_minor": 0,
  "metadata": {
    "colab": {
      "provenance": [],
      "authorship_tag": "ABX9TyMNtT19wv3VZeFOiUbeiIzl",
      "include_colab_link": true
    },
    "kernelspec": {
      "name": "python3",
      "display_name": "Python 3"
    },
    "language_info": {
      "name": "python"
    }
  },
  "cells": [
    {
      "cell_type": "markdown",
      "metadata": {
        "id": "view-in-github",
        "colab_type": "text"
      },
      "source": [
        "<a href=\"https://colab.research.google.com/github/pkaliahmar/Python-Course/blob/main/Class-1.ipynb\" target=\"_parent\"><img src=\"https://colab.research.google.com/assets/colab-badge.svg\" alt=\"Open In Colab\"/></a>"
      ]
    },
    {
      "cell_type": "code",
      "execution_count": null,
      "metadata": {
        "colab": {
          "base_uri": "https://localhost:8080/"
        },
        "id": "kbjkpHpBU7MP",
        "outputId": "e6ccce4e-34cb-4887-b513-3acb071b086f"
      },
      "outputs": [
        {
          "output_type": "stream",
          "name": "stdout",
          "text": [
            "Hello world\n"
          ]
        }
      ],
      "source": [
        "print(\"Hello world\")"
      ]
    },
    {
      "cell_type": "code",
      "source": [
        "print (\"Name : ALI AHMAR \")\n",
        "print (\"Father Name : Muhammad Imran yousaf\")\n",
        "print (\"Age : 21\")\n"
      ],
      "metadata": {
        "colab": {
          "base_uri": "https://localhost:8080/"
        },
        "id": "k5LoFMtMWsx_",
        "outputId": "cd35a438-87b2-47d0-8300-5ac6273217b1"
      },
      "execution_count": null,
      "outputs": [
        {
          "output_type": "stream",
          "name": "stdout",
          "text": [
            "Name : ALI AHMAR \n",
            "Father Name : Muhammad Imran yousaf\n",
            "Age : 21\n"
          ]
        }
      ]
    },
    {
      "cell_type": "code",
      "source": [
        "Age = 43\n",
        "Age = input(\"Enter your Age : \")\n",
        "print(\"Age = \", Age)"
      ],
      "metadata": {
        "colab": {
          "base_uri": "https://localhost:8080/"
        },
        "id": "JaXu6k3aZKWk",
        "outputId": "b08d8360-4924-4b1c-eb93-e1c73af696ba"
      },
      "execution_count": null,
      "outputs": [
        {
          "output_type": "stream",
          "name": "stdout",
          "text": [
            "Enter your Age : 89\n",
            "Age =  89\n"
          ]
        }
      ]
    },
    {
      "cell_type": "code",
      "source": [
        "U_Name = \"University of management and Technology\"\n",
        "print (U_Name)\n",
        "type(U_Name)"
      ],
      "metadata": {
        "colab": {
          "base_uri": "https://localhost:8080/"
        },
        "id": "AJgrn85EcMqy",
        "outputId": "2e510613-6fb0-4f04-ea15-efa402c4ff7e"
      },
      "execution_count": null,
      "outputs": [
        {
          "output_type": "stream",
          "name": "stdout",
          "text": [
            "University of management and Technology\n"
          ]
        },
        {
          "output_type": "execute_result",
          "data": {
            "text/plain": [
              "str"
            ]
          },
          "metadata": {},
          "execution_count": 23
        }
      ]
    },
    {
      "cell_type": "code",
      "source": [
        "FatherName = \"Imran Yousaf\"\n",
        "print (FatherName)\n"
      ],
      "metadata": {
        "colab": {
          "base_uri": "https://localhost:8080/"
        },
        "id": "VNFVvHKCdhOR",
        "outputId": "e087770d-87f5-4005-b3af-b1a70e012c3a"
      },
      "execution_count": null,
      "outputs": [
        {
          "output_type": "stream",
          "name": "stdout",
          "text": [
            "Imran Yousaf\n"
          ]
        }
      ]
    },
    {
      "cell_type": "code",
      "source": [
        "FatherName = input (\"Enter your Father's Name : \")\n",
        "print(FatherName)"
      ],
      "metadata": {
        "colab": {
          "base_uri": "https://localhost:8080/"
        },
        "id": "VDS2H1ROeWAB",
        "outputId": "2c897135-f283-4426-b7a3-511ee3353f28"
      },
      "execution_count": null,
      "outputs": [
        {
          "output_type": "stream",
          "name": "stdout",
          "text": [
            "Enter your Father's Name : Imran yousaf\n",
            "Imran yousaf\n"
          ]
        }
      ]
    },
    {
      "cell_type": "code",
      "source": [
        "MotherName = input (\"Enter your Mother's Name : \")\n",
        "print(MotherName)"
      ],
      "metadata": {
        "colab": {
          "base_uri": "https://localhost:8080/"
        },
        "id": "z-R7fydWeoKB",
        "outputId": "47257665-d4e3-49f9-e3d6-6fa163e0177c"
      },
      "execution_count": null,
      "outputs": [
        {
          "output_type": "stream",
          "name": "stdout",
          "text": [
            "Enter your Mother's Name : Munazza Imran\n",
            "Munazza Imran\n"
          ]
        }
      ]
    },
    {
      "cell_type": "code",
      "source": [
        "Age = int (input (\"Enter Age : \"))\n",
        "print (Age)\n",
        "print (type(Age))"
      ],
      "metadata": {
        "colab": {
          "base_uri": "https://localhost:8080/"
        },
        "id": "U7cGnXIMgELv",
        "outputId": "4c66cbb8-6660-4cd1-c9dc-8a4712e9a712"
      },
      "execution_count": null,
      "outputs": [
        {
          "output_type": "stream",
          "name": "stdout",
          "text": [
            "Enter Age : 21\n",
            "21\n",
            "<class 'int'>\n"
          ]
        }
      ]
    },
    {
      "cell_type": "code",
      "source": [
        "Price = float(input (\"Enter price : \"))\n",
        "print (Price)\n",
        "print (type(Price))"
      ],
      "metadata": {
        "colab": {
          "base_uri": "https://localhost:8080/"
        },
        "id": "Ws0D0bR9hwP0",
        "outputId": "388b96c0-d0e2-41ac-a324-7357a47a80d8"
      },
      "execution_count": null,
      "outputs": [
        {
          "output_type": "stream",
          "name": "stdout",
          "text": [
            "Enter price : 20\n",
            "20.0\n",
            "<class 'float'>\n"
          ]
        }
      ]
    }
  ]
}
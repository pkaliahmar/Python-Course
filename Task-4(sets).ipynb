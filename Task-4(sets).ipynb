{
  "nbformat": 4,
  "nbformat_minor": 0,
  "metadata": {
    "colab": {
      "provenance": [],
      "authorship_tag": "ABX9TyO9I0+5RmJTnmHUXNoFc0CP",
      "include_colab_link": true
    },
    "kernelspec": {
      "name": "python3",
      "display_name": "Python 3"
    },
    "language_info": {
      "name": "python"
    }
  },
  "cells": [
    {
      "cell_type": "markdown",
      "metadata": {
        "id": "view-in-github",
        "colab_type": "text"
      },
      "source": [
        "<a href=\"https://colab.research.google.com/github/pkaliahmar/Python-Course/blob/main/Task-4(sets).ipynb\" target=\"_parent\"><img src=\"https://colab.research.google.com/assets/colab-badge.svg\" alt=\"Open In Colab\"/></a>"
      ]
    },
    {
      "cell_type": "code",
      "execution_count": 1,
      "metadata": {
        "colab": {
          "base_uri": "https://localhost:8080/"
        },
        "id": "RHpWA2jeK3WP",
        "outputId": "4bfebfbe-abc0-4015-fb2f-4a0b3e148be4"
      },
      "outputs": [
        {
          "output_type": "stream",
          "name": "stdout",
          "text": [
            "Enter elements separated by space: 1 2 3 4 banana bike bus  mango Usman Sara orange apple 5 1 Ali  yellow red pink\n",
            "Set is: {'Ali', '2', 'yellow', 'red', 'bike', '1', '4', 'bus', 'Sara', 'banana', '3', 'mango', 'apple', 'pink', 'orange', '5', 'Usman'}\n"
          ]
        }
      ],
      "source": [
        "# Q1 (Set) - Create a set from user input\n",
        "data = set(input(\"Enter elements separated by space: \").split())\n",
        "print(\"Set is:\", data)\n"
      ]
    },
    {
      "cell_type": "code",
      "source": [
        "# Q2 (Set) - Add an element\n",
        "data = set(input(\"Enter elements separated by space: \").split())\n",
        "element = input(\"Enter element to add: \")\n",
        "data.add(element)\n",
        "print(\"Updated Set:\", data)"
      ],
      "metadata": {
        "colab": {
          "base_uri": "https://localhost:8080/"
        },
        "id": "wnu4RnFHK-Np",
        "outputId": "0437854f-9877-4a29-dc73-79233de8addc"
      },
      "execution_count": 2,
      "outputs": [
        {
          "output_type": "stream",
          "name": "stdout",
          "text": [
            "Enter elements separated by space: 1 2 3 4 banana bike bus  mango Usman Sara orange apple 5 1 Ali  yellow red pink\n",
            "Enter element to add: helicopter\n",
            "Updated Set: {'Ali', '2', 'yellow', 'red', 'bike', '1', '4', 'bus', 'Sara', 'helicopter', 'banana', '3', 'mango', 'apple', 'pink', 'orange', '5', 'Usman'}\n"
          ]
        }
      ]
    },
    {
      "cell_type": "code",
      "source": [
        "# Q3 (Set) - Remove an element\n",
        "data = set(input(\"Enter elements separated by space: \").split())\n",
        "element = input(\"Enter element to remove: \")\n",
        "data.discard(element)   # no error if element not found\n",
        "print(\"Updated Set:\", data)\n"
      ],
      "metadata": {
        "colab": {
          "base_uri": "https://localhost:8080/"
        },
        "id": "VLplLGjULOAF",
        "outputId": "9534dab8-eb73-4c23-de10-28e0b0512d88"
      },
      "execution_count": 3,
      "outputs": [
        {
          "output_type": "stream",
          "name": "stdout",
          "text": [
            "Enter elements separated by space: 1 2 3 4 banana bike bus  mango Usman Sara orange apple 5 1 Ali  yellow red pink\n",
            "Enter element to remove: banana\n",
            "Updated Set: {'Ali', '2', 'yellow', 'red', 'bike', '1', '4', 'bus', 'Sara', '3', 'mango', 'apple', 'pink', 'orange', '5', 'Usman'}\n"
          ]
        }
      ]
    },
    {
      "cell_type": "code",
      "source": [
        "# Q4 (Set) - Find length of set\n",
        "data = set(input(\"Enter elements separated by space: \").split())\n",
        "print(\"Length of set:\", len(data))\n"
      ],
      "metadata": {
        "colab": {
          "base_uri": "https://localhost:8080/"
        },
        "id": "MSeOw6aFLPbG",
        "outputId": "7dcf1c6b-5357-4965-cb65-77e07b25c0e6"
      },
      "execution_count": 4,
      "outputs": [
        {
          "output_type": "stream",
          "name": "stdout",
          "text": [
            "Enter elements separated by space: 1 2 3 4 banana bike bus  mango Usman Sara orange apple 5 1 Ali  yellow red pink\n",
            "Length of set: 17\n"
          ]
        }
      ]
    },
    {
      "cell_type": "code",
      "source": [
        "# Q5 (Set) - Check membership\n",
        "data = set(input(\"Enter elements separated by space: \").split())\n",
        "element = input(\"Enter element to check: \")\n",
        "print(element, \"exists in set?\", element in data)\n"
      ],
      "metadata": {
        "colab": {
          "base_uri": "https://localhost:8080/"
        },
        "id": "te8VGLSWLRc1",
        "outputId": "46b2ef98-e5a7-4dda-ecfc-ff92940553aa"
      },
      "execution_count": 5,
      "outputs": [
        {
          "output_type": "stream",
          "name": "stdout",
          "text": [
            "Enter elements separated by space: 1 2 3 4 banana bike bus  mango Usman Sara orange apple 5 1 Ali  yellow red pink\n",
            "Enter element to check: bus\n",
            "bus exists in set? True\n"
          ]
        }
      ]
    },
    {
      "cell_type": "code",
      "source": [
        "# Q6 (Set) - Union of two sets\n",
        "data1 = set(input(\"Enter first set elements: \").split())\n",
        "data2 = set(input(\"Enter second set elements: \").split())\n",
        "print(\"Union:\", data1 | data2)\n"
      ],
      "metadata": {
        "colab": {
          "base_uri": "https://localhost:8080/"
        },
        "id": "doLcBHx2LUgB",
        "outputId": "0961ad70-954c-4e29-b330-6dbd997d38f6"
      },
      "execution_count": 6,
      "outputs": [
        {
          "output_type": "stream",
          "name": "stdout",
          "text": [
            "Enter first set elements: 1 2 3 4 5\n",
            "Enter second set elements: 6 7 8 9 10\n",
            "Union: {'2', '1', '4', '9', '3', '7', '5', '8', '6', '10'}\n"
          ]
        }
      ]
    },
    {
      "cell_type": "code",
      "source": [
        "# Q7 (Set) - Intersection of two sets\n",
        "data1 = set(input(\"Enter first set elements: \").split())\n",
        "data2 = set(input(\"Enter second set elements: \").split())\n",
        "print(\"Intersection:\", data1 & data2)\n"
      ],
      "metadata": {
        "colab": {
          "base_uri": "https://localhost:8080/"
        },
        "id": "kQPniTmnLVhZ",
        "outputId": "e254effe-2ee2-4feb-955b-8ce0cfc6ec76"
      },
      "execution_count": 7,
      "outputs": [
        {
          "output_type": "stream",
          "name": "stdout",
          "text": [
            "Enter first set elements: 1 2 3 4 5 \n",
            "Enter second set elements: 7 6 5 4 3\n",
            "Intersection: {'5', '3', '4'}\n"
          ]
        }
      ]
    },
    {
      "cell_type": "code",
      "source": [
        "# Q8 (Set) - Difference of two sets\n",
        "data1 = set(input(\"Enter first set elements: \").split())\n",
        "data2 = set(input(\"Enter second set elements: \").split())\n",
        "print(\"Difference:\", data1 - data2)\n"
      ],
      "metadata": {
        "colab": {
          "base_uri": "https://localhost:8080/"
        },
        "id": "s0VtqR2OLXTj",
        "outputId": "44feb919-78bd-4c8e-e965-93bf977e405e"
      },
      "execution_count": 8,
      "outputs": [
        {
          "output_type": "stream",
          "name": "stdout",
          "text": [
            "Enter first set elements: 8 7 6 5 4 3\n",
            "Enter second set elements: 6 5 4\n",
            "Difference: {'8', '3', '7'}\n"
          ]
        }
      ]
    },
    {
      "cell_type": "code",
      "source": [
        "# Q9 (Set) - Symmetric difference\n",
        "data1 = set(input(\"Enter first set elements: \").split())\n",
        "data2 = set(input(\"Enter second set elements: \").split())\n",
        "print(\"Symmetric Difference:\", data1 ^ data2)\n"
      ],
      "metadata": {
        "colab": {
          "base_uri": "https://localhost:8080/"
        },
        "id": "Cl1QRLk_LYq6",
        "outputId": "e7bd73b2-b69d-44d1-b7d6-1f8b7f39ad3e"
      },
      "execution_count": 9,
      "outputs": [
        {
          "output_type": "stream",
          "name": "stdout",
          "text": [
            "Enter first set elements: 1 2 3 4 5 6\n",
            "Enter second set elements: 1 2 7\n",
            "Symmetric Difference: {'3', '6', '4', '5', '7'}\n"
          ]
        }
      ]
    },
    {
      "cell_type": "code",
      "source": [
        "# Q10 (Set) - Clear all elements\n",
        "data = set(input(\"Enter elements separated by space: \").split())\n",
        "data.clear()\n",
        "print(\"Cleared Set:\", data)\n"
      ],
      "metadata": {
        "colab": {
          "base_uri": "https://localhost:8080/"
        },
        "id": "Rq4HHHfmLZ-g",
        "outputId": "019c805c-dc3b-4c50-c3e1-e53098543073"
      },
      "execution_count": 10,
      "outputs": [
        {
          "output_type": "stream",
          "name": "stdout",
          "text": [
            "Enter elements separated by space: 1 2 3 4 banana bike bus  mango Usman Sara orange apple 5 1 Ali  yellow red pink\n",
            "Cleared Set: set()\n"
          ]
        }
      ]
    }
  ]
}
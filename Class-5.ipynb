{
  "nbformat": 4,
  "nbformat_minor": 0,
  "metadata": {
    "colab": {
      "provenance": [],
      "authorship_tag": "ABX9TyMIlOTAYW0XIJmR7n4ZKAs4",
      "include_colab_link": true
    },
    "kernelspec": {
      "name": "python3",
      "display_name": "Python 3"
    },
    "language_info": {
      "name": "python"
    }
  },
  "cells": [
    {
      "cell_type": "markdown",
      "metadata": {
        "id": "view-in-github",
        "colab_type": "text"
      },
      "source": [
        "<a href=\"https://colab.research.google.com/github/pkaliahmar/Python-Course/blob/main/Class-5.ipynb\" target=\"_parent\"><img src=\"https://colab.research.google.com/assets/colab-badge.svg\" alt=\"Open In Colab\"/></a>"
      ]
    },
    {
      "cell_type": "code",
      "execution_count": 1,
      "metadata": {
        "colab": {
          "base_uri": "https://localhost:8080/"
        },
        "id": "DaTMgXVZbSPC",
        "outputId": "ceb852ca-2788-4116-db71-bf966caa2393"
      },
      "outputs": [
        {
          "output_type": "stream",
          "name": "stdout",
          "text": [
            "Enter a number: 13\n",
            "Odd\n"
          ]
        }
      ],
      "source": [
        "# even or odd\n",
        "num = int(input(\"Enter a number: \"))\n",
        "if num % 2 == 0:\n",
        "    print(\"Even\")\n",
        "else:\n",
        "    print(\"Odd\")\n"
      ]
    },
    {
      "cell_type": "code",
      "source": [
        "# reverse a string\n",
        "mystring = input (\"Enter a string : \")\n",
        "reverse = mystring[::-1]\n",
        "print (reverse)"
      ],
      "metadata": {
        "colab": {
          "base_uri": "https://localhost:8080/"
        },
        "id": "WyA1klRubgBQ",
        "outputId": "a625591c-5f36-4aaa-a573-a84ca007dd86"
      },
      "execution_count": 3,
      "outputs": [
        {
          "output_type": "stream",
          "name": "stdout",
          "text": [
            "Enter a string : python\n",
            "nohtyp\n"
          ]
        }
      ]
    },
    {
      "cell_type": "code",
      "source": [
        "# Check Positive, Negative, or Zero\n",
        "num = int(input(\"Enter a number: \"))\n",
        "if num > 0:\n",
        "    print(\"Positive\")\n",
        "elif num < 0:\n",
        "    print(\"Negative\")\n",
        "else:\n",
        "    print(\"Zero\")"
      ],
      "metadata": {
        "colab": {
          "base_uri": "https://localhost:8080/"
        },
        "id": "EGIDXomDboAW",
        "outputId": "623ddc97-5274-4076-cf9b-79a4f6eafaff"
      },
      "execution_count": 4,
      "outputs": [
        {
          "output_type": "stream",
          "name": "stdout",
          "text": [
            "Enter a number: -8\n",
            "Negative\n"
          ]
        }
      ]
    },
    {
      "cell_type": "code",
      "source": [
        "# Swap Two Numbers\n",
        "a = int (input(\"Enter value for a : \"))\n",
        "b = int (input(\"Enter value for b : \"))\n",
        "\n",
        "a, b = b, a\n",
        "print(\"a =\", a, \"b =\", b)"
      ],
      "metadata": {
        "colab": {
          "base_uri": "https://localhost:8080/"
        },
        "id": "SD6mcXNgcdgi",
        "outputId": "9c5a76c6-fdd2-41e1-fcdd-32bad148bc8e"
      },
      "execution_count": 5,
      "outputs": [
        {
          "output_type": "stream",
          "name": "stdout",
          "text": [
            "Enter value for a : 4\n",
            "Enter value for b : 9\n",
            "a = 9 b = 4\n"
          ]
        }
      ]
    },
    {
      "cell_type": "code",
      "source": [
        "# simple calclulator\n",
        "a = float(input(\"Enter first number: \"))\n",
        "b = float(input(\"Enter second number: \"))\n",
        "op = input(\"Enter operator (+, -, *, /): \")\n",
        "\n",
        "if op == \"+\":\n",
        "    print(\"Result:\", a + b)\n",
        "elif op == \"-\":\n",
        "    print(\"Result:\", a - b)\n",
        "elif op == \"*\":\n",
        "    print(\"Result:\", a * b)\n",
        "elif op == \"/\":\n",
        "    print(\"Result:\", a / b)\n",
        "else:\n",
        "    print(\"Invalid operator\")\n"
      ],
      "metadata": {
        "colab": {
          "base_uri": "https://localhost:8080/"
        },
        "id": "aDimsJBhc1YK",
        "outputId": "1080c430-14b2-4763-eeaf-008d7fb09dc8"
      },
      "execution_count": 6,
      "outputs": [
        {
          "output_type": "stream",
          "name": "stdout",
          "text": [
            "Enter first number: 4.6\n",
            "Enter second number: 3\n",
            "Enter operator (+, -, *, /): *\n",
            "Result: 13.799999999999999\n"
          ]
        }
      ]
    },
    {
      "cell_type": "code",
      "source": [
        "# Extract Domain from Email\n",
        "\n",
        "email = input(\"Enter Email : \")\n",
        "domain = email.split(\"@\")[1]\n",
        "print(\"Domain:\", domain)\n"
      ],
      "metadata": {
        "colab": {
          "base_uri": "https://localhost:8080/"
        },
        "id": "32IgaYffc9Jc",
        "outputId": "8835af73-fa30-4a1b-f3bc-0ff06ea8b467"
      },
      "execution_count": 8,
      "outputs": [
        {
          "output_type": "stream",
          "name": "stdout",
          "text": [
            "Enter Email : pkaliahmar@gmail.com\n",
            "Domain: gmail.com\n"
          ]
        }
      ]
    },
    {
      "cell_type": "code",
      "source": [
        "# Replace Spaces with Underscores\n",
        "\n",
        "text = input(\"Enter text : \")\n",
        "new_text = text.replace(\" \", \"_\")\n",
        "print(new_text)\n"
      ],
      "metadata": {
        "colab": {
          "base_uri": "https://localhost:8080/"
        },
        "id": "1sozkC9cdVBZ",
        "outputId": "9702872d-6e0f-4ba7-a581-5b5564a481de"
      },
      "execution_count": 9,
      "outputs": [
        {
          "output_type": "stream",
          "name": "stdout",
          "text": [
            "Enter text : kabhi kushi kabhi gham\n",
            "kabhi_kushi_kabhi_gham\n"
          ]
        }
      ]
    },
    {
      "cell_type": "code",
      "source": [
        "# Get First and Last Character of a String\n",
        "\n",
        "string = input(\"Enter a string : \")\n",
        "print(\"First:\", string[0])\n",
        "print(\"Last:\", string[-1])\n"
      ],
      "metadata": {
        "colab": {
          "base_uri": "https://localhost:8080/"
        },
        "id": "5_pcx1Qgd1YU",
        "outputId": "01b06f14-9586-4506-b08f-67d31f2f6c47"
      },
      "execution_count": 11,
      "outputs": [
        {
          "output_type": "stream",
          "name": "stdout",
          "text": [
            "Enter a string : pakistan\n",
            "First: p\n",
            "Last: n\n"
          ]
        }
      ]
    },
    {
      "cell_type": "code",
      "source": [
        "# Convert Temperature\n",
        "\n",
        "celsius = float(input(\"Enter temperature in Celsius: \"))\n",
        "fahrenheit = (celsius * 9/5) + 32\n",
        "print(\"Temperature in Fahrenheit:\", fahrenheit)\n"
      ],
      "metadata": {
        "colab": {
          "base_uri": "https://localhost:8080/"
        },
        "id": "HZKn24BKeJ0E",
        "outputId": "52b67c97-e7d1-44a5-c40d-b906683bf199"
      },
      "execution_count": 12,
      "outputs": [
        {
          "output_type": "stream",
          "name": "stdout",
          "text": [
            "Enter temperature in Celsius: 37.6\n",
            "Temperature in Fahrenheit: 99.68\n"
          ]
        }
      ]
    },
    {
      "cell_type": "code",
      "source": [
        "# Check if a Number is Divisible by Both 3 and 5\n",
        "\n",
        "num = int(input(\"Enter a number: \"))\n",
        "\n",
        "if num % 3 == 0 and num % 5 == 0:\n",
        "    print(num, \"is divisible by both 3 and 5\")\n",
        "else:\n",
        "    print(num, \"is not divisible by both 3 and 5\")\n"
      ],
      "metadata": {
        "colab": {
          "base_uri": "https://localhost:8080/"
        },
        "id": "QXOXz6yGekVy",
        "outputId": "8b0c342f-c59e-4960-e5ac-dd6345976da3"
      },
      "execution_count": 13,
      "outputs": [
        {
          "output_type": "stream",
          "name": "stdout",
          "text": [
            "Enter a number: 15\n",
            "15 is divisible by both 3 and 5\n"
          ]
        }
      ]
    }
  ]
}
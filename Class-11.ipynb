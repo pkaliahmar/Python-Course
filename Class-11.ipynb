{
  "nbformat": 4,
  "nbformat_minor": 0,
  "metadata": {
    "colab": {
      "provenance": [],
      "authorship_tag": "ABX9TyPwiM5Tb2uQDviOUq3Yf9uK",
      "include_colab_link": true
    },
    "kernelspec": {
      "name": "python3",
      "display_name": "Python 3"
    },
    "language_info": {
      "name": "python"
    }
  },
  "cells": [
    {
      "cell_type": "markdown",
      "metadata": {
        "id": "view-in-github",
        "colab_type": "text"
      },
      "source": [
        "<a href=\"https://colab.research.google.com/github/pkaliahmar/Python-Course/blob/main/Class-11.ipynb\" target=\"_parent\"><img src=\"https://colab.research.google.com/assets/colab-badge.svg\" alt=\"Open In Colab\"/></a>"
      ]
    },
    {
      "cell_type": "code",
      "execution_count": null,
      "metadata": {
        "colab": {
          "base_uri": "https://localhost:8080/"
        },
        "id": "uZn6VJ9Cjt00",
        "outputId": "1274d525-907d-4060-c372-569486a8eac7"
      },
      "outputs": [
        {
          "output_type": "stream",
          "name": "stdout",
          "text": [
            "Enter a key: ID\n",
            "Enter a value: 101\n",
            "ID\n",
            "name\n",
            "age\n",
            "grade\n",
            "101\n",
            "Ali\n",
            "21\n",
            "A\n",
            "ID : 101\n",
            "name : Ali\n",
            "age : 21\n",
            "grade : A\n"
          ]
        }
      ],
      "source": [
        "key = input(\"Enter a key: \")\n",
        "value = input(\"Enter a value: \")\n",
        "\n",
        "student = {\n",
        "    key : value,\n",
        "    \"name\": \"Ali\",\n",
        "    \"age\": 21,\n",
        "    \"grade\": \"A\"\n",
        "}\n",
        "for key in student.keys():\n",
        "    print(key)\n",
        "\n",
        "for value in student.values():\n",
        "    print(value)\n",
        "\n",
        "for key, value in student.items():\n",
        "    print(key, \":\", value)\n",
        "\n"
      ]
    },
    {
      "cell_type": "code",
      "source": [
        "student = {}\n",
        "\n",
        "for i in range(4):\n",
        "    key = input(\"Enter a key: \")\n",
        "    value = input(\"Enter a value: \")\n",
        "    student[key] = value   # store in dictionary\n",
        "\n",
        "print(\"\\nFinal Dictionary:\")\n",
        "print(student)\n"
      ],
      "metadata": {
        "colab": {
          "base_uri": "https://localhost:8080/"
        },
        "id": "kFKVMyEdparD",
        "outputId": "4fab610d-bbd3-43d3-ab79-b7370c17ae82"
      },
      "execution_count": null,
      "outputs": [
        {
          "output_type": "stream",
          "name": "stdout",
          "text": [
            "Enter a key: Name\n",
            "Enter a value: Ali\n",
            "Enter a key: Age\n",
            "Enter a value: 21\n",
            "Enter a key: city\n",
            "Enter a value: MDK\n",
            "Enter a key: ID\n",
            "Enter a value: 101\n",
            "\n",
            "Final Dictionary:\n",
            "{'Name': 'Ali', 'Age': '21', 'city': 'MDK', 'ID': '101'}\n"
          ]
        }
      ]
    },
    {
      "cell_type": "code",
      "source": [
        "one = {\"ID\", \"time\", \"12 O'clock\", \"Ali\", frozenset({2,3,4,5}), frozenset({22,33,44,55})}\n",
        "print(one)\n"
      ],
      "metadata": {
        "colab": {
          "base_uri": "https://localhost:8080/"
        },
        "id": "cPNJ1zjtpwQC",
        "outputId": "9110d21c-5dee-41cb-ab4f-c90bccad7eae"
      },
      "execution_count": null,
      "outputs": [
        {
          "output_type": "stream",
          "name": "stdout",
          "text": [
            "{'Ali', 'ID', 'time', \"12 O'clock\", frozenset({2, 3, 4, 5}), frozenset({33, 44, 22, 55})}\n"
          ]
        }
      ]
    },
    {
      "cell_type": "code",
      "source": [
        "data = {\"Ages\": [1,2,{\"boys\":[21,22,23]},4, {\"olds\": [102, 200, 300]}] , \"Names\": [1,{\"boys\" : [\"ali\",\"saad\"]},3,4,5,6,{\"olds\":[1,2,100,200,300,4,5]}]}\n",
        "\n",
        "# Access 200\n",
        "value = data[\"Ages\"][4][\"olds\"][2]\n",
        "print(value)\n",
        "\n",
        "value2 = data [\"Ages\"][2][\"boys\"][0]\n",
        "print(value2)\n",
        "\n",
        "value3 = data [\"Names\"][1][\"boys\"][1]\n",
        "print (value3)\n",
        "\n",
        "value4 = data [\"Names\"][6][\"olds\"][3]\n",
        "print (value4)"
      ],
      "metadata": {
        "colab": {
          "base_uri": "https://localhost:8080/"
        },
        "id": "c36NhzvcvjHl",
        "outputId": "c68df092-1a73-40f5-e604-3d4418d48fc7"
      },
      "execution_count": null,
      "outputs": [
        {
          "output_type": "stream",
          "name": "stdout",
          "text": [
            "300\n",
            "21\n",
            "saad\n",
            "200\n"
          ]
        }
      ]
    }
  ]
}
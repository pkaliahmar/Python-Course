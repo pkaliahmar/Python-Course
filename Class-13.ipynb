{
  "nbformat": 4,
  "nbformat_minor": 0,
  "metadata": {
    "colab": {
      "provenance": [],
      "authorship_tag": "ABX9TyPh6vqFMx/3e2m9AR2pbjpT",
      "include_colab_link": true
    },
    "kernelspec": {
      "name": "python3",
      "display_name": "Python 3"
    },
    "language_info": {
      "name": "python"
    }
  },
  "cells": [
    {
      "cell_type": "markdown",
      "metadata": {
        "id": "view-in-github",
        "colab_type": "text"
      },
      "source": [
        "<a href=\"https://colab.research.google.com/github/pkaliahmar/Python-Course/blob/main/Class-13.ipynb\" target=\"_parent\"><img src=\"https://colab.research.google.com/assets/colab-badge.svg\" alt=\"Open In Colab\"/></a>"
      ]
    },
    {
      "cell_type": "code",
      "execution_count": null,
      "metadata": {
        "colab": {
          "base_uri": "https://localhost:8080/"
        },
        "id": "9vytnpRFqXY7",
        "outputId": "ab46d63b-1665-414e-94d5-53094da47bb8"
      },
      "outputs": [
        {
          "output_type": "stream",
          "name": "stdout",
          "text": [
            "Enter names separated by spaces: ALI HAMZA HUZAIFA ZAEEM SHAYAN\n",
            "\n",
            "Middle character of each name:\n",
            "ALI -> L\n",
            "HAMZA -> M\n",
            "HUZAIFA -> A\n",
            "ZAEEM -> E\n",
            "SHAYAN -> AY\n"
          ]
        }
      ],
      "source": [
        "\n",
        "names = input(\"Enter names separated by spaces: \").split()\n",
        "\n",
        "print(\"\\nMiddle character of each name:\")\n",
        "for name in names:\n",
        "    length = len(name)\n",
        "    mid = length // 2   # middle index\n",
        "\n",
        "    if length % 2 == 0:   # even length → take two middle characters\n",
        "        middle_char = name[mid - 1] + name[mid]\n",
        "    else:                 # odd length → take single middle character\n",
        "        middle_char = name[mid]\n",
        "\n",
        "    print(f\"{name} -> {middle_char}\")\n"
      ]
    },
    {
      "cell_type": "code",
      "source": [
        "numbers = list(map(int, input(\"Enter 5 numbers separated by spaces: \").split()))\n",
        "\n",
        "# create a new list with squares\n",
        "squares = [x * x for x in numbers]\n",
        "\n",
        "print(\"Original numbers:\", numbers)\n",
        "print(\"Squares:\", squares)\n"
      ],
      "metadata": {
        "id": "knEEWqnTxjAM"
      },
      "execution_count": null,
      "outputs": []
    },
    {
      "cell_type": "code",
      "source": [
        "numbers = []\n",
        "\n",
        "for i in range(5):\n",
        "    num = int(input(f\"Enter number {i+1}: \"))\n",
        "    numbers.append(num)\n",
        "\n",
        "# create a new list with squares\n",
        "squares = [x * x for x in numbers]\n",
        "\n",
        "print(\"Original numbers:\", numbers)\n",
        "print(\"Squares:\", squares)\n"
      ],
      "metadata": {
        "colab": {
          "base_uri": "https://localhost:8080/"
        },
        "id": "oupXP3KJzOLv",
        "outputId": "a55c380c-249e-4a90-d41c-145ef6d0de8c"
      },
      "execution_count": 26,
      "outputs": [
        {
          "output_type": "stream",
          "name": "stdout",
          "text": [
            "Enter number 1: 1 \n",
            "Enter number 2: 2\n",
            "Enter number 3: 3\n",
            "Enter number 4: 4\n",
            "Enter number 5: 5\n",
            "Original numbers: [1, 2, 3, 4, 5]\n",
            "Squares: [1, 4, 9, 16, 25]\n"
          ]
        }
      ]
    }
  ]
}
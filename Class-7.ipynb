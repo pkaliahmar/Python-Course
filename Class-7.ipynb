{
  "nbformat": 4,
  "nbformat_minor": 0,
  "metadata": {
    "colab": {
      "provenance": [],
      "authorship_tag": "ABX9TyOttJKzHo7tZ1//itodht2Y",
      "include_colab_link": true
    },
    "kernelspec": {
      "name": "python3",
      "display_name": "Python 3"
    },
    "language_info": {
      "name": "python"
    }
  },
  "cells": [
    {
      "cell_type": "markdown",
      "metadata": {
        "id": "view-in-github",
        "colab_type": "text"
      },
      "source": [
        "<a href=\"https://colab.research.google.com/github/pkaliahmar/Python-Course/blob/main/Class-7.ipynb\" target=\"_parent\"><img src=\"https://colab.research.google.com/assets/colab-badge.svg\" alt=\"Open In Colab\"/></a>"
      ]
    },
    {
      "cell_type": "code",
      "execution_count": 3,
      "metadata": {
        "id": "sMPP8LnAblLP",
        "colab": {
          "base_uri": "https://localhost:8080/"
        },
        "outputId": "c63815c6-9226-4d27-e77e-f1621e2cca82"
      },
      "outputs": [
        {
          "output_type": "stream",
          "name": "stdout",
          "text": [
            "Enter a number : 10\n",
            "x is equal to 10\n"
          ]
        }
      ],
      "source": [
        "# Q2\n",
        "\n",
        "num = int (input(\"Enter a number : \"))\n",
        "\n",
        "if num > 10:\n",
        "  print(\"x is greater than 10\")\n",
        "elif num == 10:\n",
        "  print(\"x is equal to 10\")\n",
        "else:\n",
        "  print(\"X is smaller than 10\")"
      ]
    },
    {
      "cell_type": "code",
      "source": [
        "# Q3\n",
        "\n",
        "Age = int (input(\"Enter your age : \"))\n",
        "\n",
        "if Age >= 18:\n",
        "  print(\"You are an adult\")\n",
        "else:\n",
        "  print(\"You aren't an adult\")\n"
      ],
      "metadata": {
        "colab": {
          "base_uri": "https://localhost:8080/"
        },
        "id": "rPB6-txukdse",
        "outputId": "86604c84-bbb9-49e8-ddaa-66a9b428276f"
      },
      "execution_count": 6,
      "outputs": [
        {
          "output_type": "stream",
          "name": "stdout",
          "text": [
            "Enter your age : 150\n",
            "You are an adult\n"
          ]
        }
      ]
    },
    {
      "cell_type": "code",
      "source": [
        "# Q4\n",
        "\n",
        "# even or odd\n",
        "\n",
        "num = int(input(\"Enter a number: \"))\n",
        "if num % 2 == 0:\n",
        "    print(\"Even\")\n",
        "else:\n",
        "    print(\"Odd\")\n"
      ],
      "metadata": {
        "colab": {
          "base_uri": "https://localhost:8080/"
        },
        "id": "oUQKeS14mHNg",
        "outputId": "a98c872e-0c85-43ce-b367-766834de36d4"
      },
      "execution_count": 7,
      "outputs": [
        {
          "output_type": "stream",
          "name": "stdout",
          "text": [
            "Enter a number: 45\n",
            "Odd\n"
          ]
        }
      ]
    },
    {
      "cell_type": "code",
      "source": [
        "# Q4\n",
        "\n",
        "Age = int (input(\"Enter your age : \"))\n",
        "\n",
        "if Age >=0 and Age<=2:\n",
        "  print(\"You are an infant\")\n",
        "elif Age >=3 and Age<=12:\n",
        "  print(\"You are an child\")\n",
        "elif Age >=13 and Age<= 19:\n",
        "  print(\"You are an teenager\")\n",
        "elif Age >=20 and Age<=64:\n",
        "  print(\"You are an adult\")\n",
        "elif Age >= 65 :\n",
        "  print(\"You are an senior\")\n",
        "else:\n",
        "  print(\"Age invalid\")"
      ],
      "metadata": {
        "colab": {
          "base_uri": "https://localhost:8080/"
        },
        "id": "fSZF4sJ_ny4l",
        "outputId": "8bbded96-cd9b-4391-a474-b28779f2e4f2"
      },
      "execution_count": 16,
      "outputs": [
        {
          "output_type": "stream",
          "name": "stdout",
          "text": [
            "Enter your age : -7\n",
            "Age invalid\n"
          ]
        }
      ]
    },
    {
      "cell_type": "code",
      "source": [
        "temp =float( (input(\"Enter a temperature : \")))\n",
        "if  temp < 0 :\n",
        "  print (\"temp is freezing cold \")\n",
        "elif temp >= 0 and temp <= 10:\n",
        "  print (\"temp is cold\")\n",
        "elif temp >= 11 and temp <= 20:\n",
        "  print (\"temp is cool\")\n",
        "elif temp >= 21 and temp <= 30:\n",
        "  print (\"temp is comfortable\")\n",
        "elif temp > 31:\n",
        "  print (\"temp is hot\")\n"
      ],
      "metadata": {
        "colab": {
          "base_uri": "https://localhost:8080/"
        },
        "id": "6vw3EhjPp0cI",
        "outputId": "091bba46-877a-401a-a0c2-8263178def82"
      },
      "execution_count": 19,
      "outputs": [
        {
          "output_type": "stream",
          "name": "stdout",
          "text": [
            "Enter a temperature : 666\n",
            "temp is hot\n"
          ]
        }
      ]
    }
  ]
}
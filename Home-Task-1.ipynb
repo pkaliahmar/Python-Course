{
  "nbformat": 4,
  "nbformat_minor": 0,
  "metadata": {
    "colab": {
      "provenance": [],
      "authorship_tag": "ABX9TyP/UeFY1JhmZB2OMQ8VmgCA",
      "include_colab_link": true
    },
    "kernelspec": {
      "name": "python3",
      "display_name": "Python 3"
    },
    "language_info": {
      "name": "python"
    }
  },
  "cells": [
    {
      "cell_type": "markdown",
      "metadata": {
        "id": "view-in-github",
        "colab_type": "text"
      },
      "source": [
        "<a href=\"https://colab.research.google.com/github/pkaliahmar/Python-Course/blob/main/Home-Task-1.ipynb\" target=\"_parent\"><img src=\"https://colab.research.google.com/assets/colab-badge.svg\" alt=\"Open In Colab\"/></a>"
      ]
    },
    {
      "cell_type": "code",
      "execution_count": 2,
      "metadata": {
        "colab": {
          "base_uri": "https://localhost:8080/"
        },
        "id": "eR5eLhYC7QI1",
        "outputId": "b50dc812-59ea-42f2-d156-190885b467cb"
      },
      "outputs": [
        {
          "output_type": "stream",
          "name": "stdout",
          "text": [
            "Enter your Name : Muhammad Ali Ahmar\n",
            "Enter your Age : 21\n",
            "Hello < Muhammad Ali Ahmar >, you are < 21 > years old!\n"
          ]
        }
      ],
      "source": [
        "Name = input(\"Enter your Name : \")\n",
        "Age = input(\"Enter your Age : \")\n",
        "\n",
        "print (\"Hello <\",Name,\">, you are <\",Age,\"> years old!\")\n"
      ]
    },
    {
      "cell_type": "code",
      "source": [
        "num1 = int (input(\"Enter first number : \"))\n",
        "num2 = int (input(\"Enter second number : \"))\n",
        "\n",
        "sum = num1 + num2\n",
        "diff = num1 - num2\n",
        "prod = num1 * num2\n",
        "div = num1 / num2\n",
        "\n",
        "print(\"The sum of num1 and num2 is : \", sum )\n",
        "print(\"The difference of num1 and num2 is : \", diff )\n",
        "print(\"The product of num1 and num2 is : \", prod )\n",
        "print(\"num1 divided b num2 is : \", div )"
      ],
      "metadata": {
        "colab": {
          "base_uri": "https://localhost:8080/"
        },
        "id": "dotDfo3K8F20",
        "outputId": "598ec49f-ec0c-4289-bbc5-3d1560d0a1b4"
      },
      "execution_count": 4,
      "outputs": [
        {
          "output_type": "stream",
          "name": "stdout",
          "text": [
            "Enter first number : 9\n",
            "Enter second number : 3\n",
            "The sum of num1 and num2 is :  12\n",
            "The difference of num1 and num2 is :  6\n",
            "The product of num1 and num2 is :  27\n",
            "num1 divided b num2 is :  3.0\n"
          ]
        }
      ]
    },
    {
      "cell_type": "code",
      "source": [
        "num1 = int(input(\"Enter a number : \"))\n",
        "\n",
        "square = num1 * num1\n",
        "cube = num1 * num1 * num1\n",
        "\n",
        "print(\"The square of\", num1, \"is\", square)\n",
        "print(\"The cube of\", num1, \"is\", cube)"
      ],
      "metadata": {
        "colab": {
          "base_uri": "https://localhost:8080/"
        },
        "id": "3dnhsYWr87Kv",
        "outputId": "5c92b658-f8e9-455a-bc65-4618c3851f3c"
      },
      "execution_count": 5,
      "outputs": [
        {
          "output_type": "stream",
          "name": "stdout",
          "text": [
            "Enter a number : 3\n",
            "The square of 3 is 9\n",
            "The cube of 3 is 27\n"
          ]
        }
      ]
    },
    {
      "cell_type": "code",
      "source": [
        "temp = int (input(\"Enter temperature in celcius : \"))\n",
        "\n",
        "Fahrenheit = (temp * (9/5)) + 32\n",
        "\n",
        "print(\"Temperature in Fahrenheit is : \", Fahrenheit)\n"
      ],
      "metadata": {
        "colab": {
          "base_uri": "https://localhost:8080/"
        },
        "id": "1gaOwEsU9Y2k",
        "outputId": "2835bf50-c285-47e9-e2b1-8d2ac14db988"
      },
      "execution_count": 7,
      "outputs": [
        {
          "output_type": "stream",
          "name": "stdout",
          "text": [
            "Enter temperature in celcius : 25\n",
            "Temperature in Fahrenheit is :  77.0\n"
          ]
        }
      ]
    },
    {
      "cell_type": "code",
      "source": [
        "height = float (input(\"Enter your height in meters : \"))\n",
        "weight = float (input(\"Enter your weight in kg : \"))\n",
        "\n",
        "BMI = weight / (height * height)\n",
        "\n",
        "print(\"Your BMI is : \", BMI)"
      ],
      "metadata": {
        "colab": {
          "base_uri": "https://localhost:8080/"
        },
        "id": "2IqXAesA91re",
        "outputId": "9e891c71-6249-43ea-9914-ffda13ec50bf"
      },
      "execution_count": 9,
      "outputs": [
        {
          "output_type": "stream",
          "name": "stdout",
          "text": [
            "Enter your height in meters : 1.72\n",
            "Enter your weight in kg : 67\n",
            "Your BMI is :  22.647376960519203\n"
          ]
        }
      ]
    },
    {
      "cell_type": "code",
      "source": [
        "f_name = input(\"Enter your first name : \")\n",
        "l_name = input(\"Enter your last name : \")\n",
        "\n",
        "print(\"Your full name is : \", f_name, l_name)"
      ],
      "metadata": {
        "colab": {
          "base_uri": "https://localhost:8080/"
        },
        "id": "HHOWHW63-j4I",
        "outputId": "5adbca15-2e9f-4461-a112-7fac7236c7d2"
      },
      "execution_count": 10,
      "outputs": [
        {
          "output_type": "stream",
          "name": "stdout",
          "text": [
            "Enter your first name : Muhammad Ali\n",
            "Enter your last name : Ahmar\n",
            "Your full name is :  Muhammad Ali Ahmar\n"
          ]
        }
      ]
    },
    {
      "cell_type": "code",
      "source": [
        "num = int(input(\"Enter a number: \"))\n",
        "\n",
        "if num % 2 ==0:\n",
        "  print(\"The number is even\")\n",
        "else:\n",
        "  print(\"The number is odd\")\n"
      ],
      "metadata": {
        "colab": {
          "base_uri": "https://localhost:8080/"
        },
        "id": "hgoGA9bQ-3BU",
        "outputId": "6b06493b-ad15-4505-8bd5-44a342a0f849"
      },
      "execution_count": 13,
      "outputs": [
        {
          "output_type": "stream",
          "name": "stdout",
          "text": [
            "Enter a number: 123456\n",
            "The number is even\n"
          ]
        }
      ]
    },
    {
      "cell_type": "code",
      "source": [
        "str1 = input(\"Enter a string : \")\n",
        "str2 = input(\"Enter another string : \")\n",
        "\n",
        "print(\"strings after concatenation : \", str1 , str2)"
      ],
      "metadata": {
        "colab": {
          "base_uri": "https://localhost:8080/"
        },
        "id": "eEadNMOAAW9K",
        "outputId": "9b12b0bb-19b2-4e4d-c7ac-44d638fcfc77"
      },
      "execution_count": 14,
      "outputs": [
        {
          "output_type": "stream",
          "name": "stdout",
          "text": [
            "Enter a string : Pakistan\n",
            "Enter another string : Zindabad\n",
            "strings after concatenation :  Pakistan Zindabad\n"
          ]
        }
      ]
    },
    {
      "cell_type": "code",
      "source": [
        "str1 = input(\"Enter a string : \")\n",
        "\n",
        "print(len(str1))"
      ],
      "metadata": {
        "colab": {
          "base_uri": "https://localhost:8080/"
        },
        "id": "VQQ1mNxkAvPk",
        "outputId": "ff67131b-1f80-4dba-9661-0104c5d14908"
      },
      "execution_count": 17,
      "outputs": [
        {
          "output_type": "stream",
          "name": "stdout",
          "text": [
            "Enter a string : Muhammad Ali Ahmar\n",
            "18\n"
          ]
        }
      ]
    },
    {
      "cell_type": "code",
      "source": [
        "num = int(input(\"Enter a number: \"))\n",
        "\n",
        "last_digit = num % 10\n",
        "\n",
        "print(\"The last digit of number is : \", last_digit)"
      ],
      "metadata": {
        "colab": {
          "base_uri": "https://localhost:8080/"
        },
        "id": "oPQXywInA7oo",
        "outputId": "8ea927a6-0a31-4934-db59-c1aafd366d94"
      },
      "execution_count": 19,
      "outputs": [
        {
          "output_type": "stream",
          "name": "stdout",
          "text": [
            "Enter a number: 5643\n",
            "The last digit of number is :  3\n"
          ]
        }
      ]
    }
  ]
}
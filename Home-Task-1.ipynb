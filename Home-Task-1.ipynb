{
  "nbformat": 4,
  "nbformat_minor": 0,
  "metadata": {
    "colab": {
      "provenance": [],
      "authorship_tag": "ABX9TyO/5YvTvjis8RdhjfxsKPDB",
      "include_colab_link": true
    },
    "kernelspec": {
      "name": "python3",
      "display_name": "Python 3"
    },
    "language_info": {
      "name": "python"
    }
  },
  "cells": [
    {
      "cell_type": "markdown",
      "metadata": {
        "id": "view-in-github",
        "colab_type": "text"
      },
      "source": [
        "<a href=\"https://colab.research.google.com/github/pkaliahmar/Python-Course/blob/main/Home-Task-1.ipynb\" target=\"_parent\"><img src=\"https://colab.research.google.com/assets/colab-badge.svg\" alt=\"Open In Colab\"/></a>"
      ]
    },
    {
      "cell_type": "code",
      "execution_count": 2,
      "metadata": {
        "colab": {
          "base_uri": "https://localhost:8080/"
        },
        "id": "eR5eLhYC7QI1",
        "outputId": "b50dc812-59ea-42f2-d156-190885b467cb"
      },
      "outputs": [
        {
          "output_type": "stream",
          "name": "stdout",
          "text": [
            "Enter your Name : Muhammad Ali Ahmar\n",
            "Enter your Age : 21\n",
            "Hello < Muhammad Ali Ahmar >, you are < 21 > years old!\n"
          ]
        }
      ],
      "source": [
        "Name = input(\"Enter your Name : \")\n",
        "Age = input(\"Enter your Age : \")\n",
        "\n",
        "print (\"Hello <\",Name,\">, you are <\",Age,\"> years old!\")\n"
      ]
    },
    {
      "cell_type": "code",
      "source": [
        "num1 = int (input(\"Enter first number : \"))\n",
        "num2 = int (input(\"Enter second number : \"))\n",
        "\n",
        "sum = num1 + num2\n",
        "diff = num1 - num2\n",
        "prod = num1 * num2\n",
        "div = num1 / num2\n",
        "\n",
        "print(\"The sum of num1 and num2 is : \", sum )\n",
        "print(\"The difference of num1 and num2 is : \", diff )\n",
        "print(\"The product of num1 and num2 is : \", prod )\n",
        "print(\"num1 divided b num2 is : \", div )"
      ],
      "metadata": {
        "colab": {
          "base_uri": "https://localhost:8080/"
        },
        "id": "dotDfo3K8F20",
        "outputId": "598ec49f-ec0c-4289-bbc5-3d1560d0a1b4"
      },
      "execution_count": 4,
      "outputs": [
        {
          "output_type": "stream",
          "name": "stdout",
          "text": [
            "Enter first number : 9\n",
            "Enter second number : 3\n",
            "The sum of num1 and num2 is :  12\n",
            "The difference of num1 and num2 is :  6\n",
            "The product of num1 and num2 is :  27\n",
            "num1 divided b num2 is :  3.0\n"
          ]
        }
      ]
    },
    {
      "cell_type": "code",
      "source": [
        "num1 = int(input(\"Enter a number : \"))\n",
        "\n",
        "square = num1 * num1\n",
        "cube = num1 * num1 * num1\n",
        "\n",
        "print(\"The square of\", num1, \"is\", square)\n",
        "print(\"The cube of\", num1, \"is\", cube)"
      ],
      "metadata": {
        "colab": {
          "base_uri": "https://localhost:8080/"
        },
        "id": "3dnhsYWr87Kv",
        "outputId": "5c92b658-f8e9-455a-bc65-4618c3851f3c"
      },
      "execution_count": 5,
      "outputs": [
        {
          "output_type": "stream",
          "name": "stdout",
          "text": [
            "Enter a number : 3\n",
            "The square of 3 is 9\n",
            "The cube of 3 is 27\n"
          ]
        }
      ]
    }
  ]
}